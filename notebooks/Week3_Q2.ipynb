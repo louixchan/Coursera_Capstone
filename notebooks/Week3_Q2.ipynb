{
 "cells": [
  {
   "cell_type": "code",
   "execution_count": 1,
   "metadata": {},
   "outputs": [],
   "source": [
    "import pandas as pd\n",
    "import numpy as np\n",
    "import requests\n",
    "from bs4 import BeautifulSoup"
   ]
  },
  {
   "cell_type": "code",
   "execution_count": 2,
   "metadata": {},
   "outputs": [],
   "source": [
    "url = 'https://en.wikipedia.org/wiki/List_of_postal_codes_of_Canada:_M'"
   ]
  },
  {
   "cell_type": "code",
   "execution_count": 3,
   "metadata": {},
   "outputs": [],
   "source": [
    "r = requests.get(url)"
   ]
  },
  {
   "cell_type": "code",
   "execution_count": 4,
   "metadata": {},
   "outputs": [],
   "source": [
    "soup = BeautifulSoup(r.content)"
   ]
  },
  {
   "cell_type": "code",
   "execution_count": 5,
   "metadata": {
    "tags": [
     "outputPrepend"
    ]
   },
   "outputs": [
    {
     "output_type": "stream",
     "name": "stdout",
     "text": "<table class=\"wikitable sortable\">\n <tbody>\n  <tr>\n   <th>\n    Postal Code\n   </th>\n   <th>\n    Borough\n   </th>\n   <th>\n    Neighborhood\n   </th>\n  </tr>\n  <tr>\n   <td>\n    M1A\n   </td>\n   <td>\n    Not assigned\n   </td>\n   <td>\n   </td>\n  </tr>\n  <tr>\n   <td>\n    M2A\n   </td>\n   <td>\n    Not assigned\n   </td>\n   <td>\n   </td>\n  </tr>\n  <tr>\n   <td>\n    M3A\n   </td>\n   <td>\n    North York\n   </td>\n   <td>\n    Parkwoods\n   </td>\n  </tr>\n  <tr>\n   <td>\n    M4A\n   </td>\n   <td>\n    North York\n   </td>\n   <td>\n    Victoria Village\n   </td>\n  </tr>\n  <tr>\n   <td>\n    M5A\n   </td>\n   <td>\n    Downtown Toronto\n   </td>\n   <td>\n    Regent Park, Harbourfront\n   </td>\n  </tr>\n  <tr>\n   <td>\n    M6A\n   </td>\n   <td>\n    North York\n   </td>\n   <td>\n    Lawrence Manor, Lawrence Heights\n   </td>\n  </tr>\n  <tr>\n   <td>\n    M7A\n   </td>\n   <td>\n    Downtown Toronto\n   </td>\n   <td>\n    Queen's Park, Ontario Provincial Government\n   </td>\n  </tr>\n  <tr>\n   <td>\n    M8A\n   </td>\n   <td>\n    Not assigned\n   </td>\n   <td>\n   </td>\n  </tr>\n  <tr>\n   <td>\n    M9A\n   </td>\n   <td>\n    Etobicoke\n   </td>\n   <td>\n    Islington Avenue\n   </td>\n  </tr>\n  <tr>\n   <td>\n    M1B\n   </td>\n   <td>\n    Scarborough\n   </td>\n   <td>\n    Malvern, Rouge\n   </td>\n  </tr>\n  <tr>\n   <td>\n    M2B\n   </td>\n   <td>\n    Not assigned\n   </td>\n   <td>\n   </td>\n  </tr>\n  <tr>\n   <td>\n    M3B\n   </td>\n   <td>\n    North York\n   </td>\n   <td>\n    Don Mills\n   </td>\n  </tr>\n  <tr>\n   <td>\n    M4B\n   </td>\n   <td>\n    East York\n   </td>\n   <td>\n    Parkview Hill, Woodbine Gardens\n   </td>\n  </tr>\n  <tr>\n   <td>\n    M5B\n   </td>\n   <td>\n    Downtown Toronto\n   </td>\n   <td>\n    Garden District, Ryerson\n   </td>\n  </tr>\n  <tr>\n   <td>\n    M6B\n   </td>\n   <td>\n    North York\n   </td>\n   <td>\n    Glencairn\n   </td>\n  </tr>\n  <tr>\n   <td>\n    M7B\n   </td>\n   <td>\n    Not assigned\n   </td>\n   <td>\n   </td>\n  </tr>\n  <tr>\n   <td>\n    M8B\n   </td>\n   <td>\n    Not assigned\n   </td>\n   <td>\n   </td>\n  </tr>\n  <tr>\n   <td>\n    M9B\n   </td>\n   <td>\n    Etobicoke\n   </td>\n   <td>\n    West Deane Park, Princess Gardens, Martin Grove, Islington, Cloverdale\n   </td>\n  </tr>\n  <tr>\n   <td>\n    M1C\n   </td>\n   <td>\n    Scarborough\n   </td>\n   <td>\n    Rouge Hill, Port Union, Highland Creek\n   </td>\n  </tr>\n  <tr>\n   <td>\n    M2C\n   </td>\n   <td>\n    Not assigned\n   </td>\n   <td>\n   </td>\n  </tr>\n  <tr>\n   <td>\n    M3C\n   </td>\n   <td>\n    North York\n   </td>\n   <td>\n    Don Mills\n   </td>\n  </tr>\n  <tr>\n   <td>\n    M4C\n   </td>\n   <td>\n    East York\n   </td>\n   <td>\n    Woodbine Heights\n   </td>\n  </tr>\n  <tr>\n   <td>\n    M5C\n   </td>\n   <td>\n    Downtown Toronto\n   </td>\n   <td>\n    St. James Town\n   </td>\n  </tr>\n  <tr>\n   <td>\n    M6C\n   </td>\n   <td>\n    York\n   </td>\n   <td>\n    Humewood-Cedarvale\n   </td>\n  </tr>\n  <tr>\n   <td>\n    M7C\n   </td>\n   <td>\n    Not assigned\n   </td>\n   <td>\n   </td>\n  </tr>\n  <tr>\n   <td>\n    M8C\n   </td>\n   <td>\n    Not assigned\n   </td>\n   <td>\n   </td>\n  </tr>\n  <tr>\n   <td>\n    M9C\n   </td>\n   <td>\n    Etobicoke\n   </td>\n   <td>\n    Eringate, Bloordale Gardens, Old Burnhamthorpe, Markland Wood\n   </td>\n  </tr>\n  <tr>\n   <td>\n    M1E\n   </td>\n   <td>\n    Scarborough\n   </td>\n   <td>\n    Guildwood, Morningside, West Hill\n   </td>\n  </tr>\n  <tr>\n   <td>\n    M2E\n   </td>\n   <td>\n    Not assigned\n   </td>\n   <td>\n   </td>\n  </tr>\n  <tr>\n   <td>\n    M3E\n   </td>\n   <td>\n    Not assigned\n   </td>\n   <td>\n   </td>\n  </tr>\n  <tr>\n   <td>\n    M4E\n   </td>\n   <td>\n    East Toronto\n   </td>\n   <td>\n    The Beaches\n   </td>\n  </tr>\n  <tr>\n   <td>\n    M5E\n   </td>\n   <td>\n    Downtown Toronto\n   </td>\n   <td>\n    Berczy Park\n   </td>\n  </tr>\n  <tr>\n   <td>\n    M6E\n   </td>\n   <td>\n    York\n   </td>\n   <td>\n    Caledonia-Fairbanks\n   </td>\n  </tr>\n  <tr>\n   <td>\n    M7E\n   </td>\n   <td>\n    Not assigned\n   </td>\n   <td>\n   </td>\n  </tr>\n  <tr>\n   <td>\n    M8E\n   </td>\n   <td>\n    Not assigned\n   </td>\n   <td>\n   </td>\n  </tr>\n  <tr>\n   <td>\n    M9E\n   </td>\n   <td>\n    Not assigned\n   </td>\n   <td>\n   </td>\n  </tr>\n  <tr>\n   <td>\n    M1G\n   </td>\n   <td>\n    Scarborough\n   </td>\n   <td>\n    Woburn\n   </td>\n  </tr>\n  <tr>\n   <td>\n    M2G\n   </td>\n   <td>\n    Not assigned\n   </td>\n   <td>\n   </td>\n  </tr>\n  <tr>\n   <td>\n    M3G\n   </td>\n   <td>\n    Not assigned\n   </td>\n   <td>\n   </td>\n  </tr>\n  <tr>\n   <td>\n    M4G\n   </td>\n   <td>\n    East York\n   </td>\n   <td>\n    Leaside\n   </td>\n  </tr>\n  <tr>\n   <td>\n    M5G\n   </td>\n   <td>\n    Downtown Toronto\n   </td>\n   <td>\n    Central Bay Street\n   </td>\n  </tr>\n  <tr>\n   <td>\n    M6G\n   </td>\n   <td>\n    Downtown Toronto\n   </td>\n   <td>\n    Christie\n   </td>\n  </tr>\n  <tr>\n   <td>\n    M7G\n   </td>\n   <td>\n    Not assigned\n   </td>\n   <td>\n   </td>\n  </tr>\n  <tr>\n   <td>\n    M8G\n   </td>\n   <td>\n    Not assigned\n   </td>\n   <td>\n   </td>\n  </tr>\n  <tr>\n   <td>\n    M9G\n   </td>\n   <td>\n    Not assigned\n   </td>\n   <td>\n   </td>\n  </tr>\n  <tr>\n   <td>\n    M1H\n   </td>\n   <td>\n    Scarborough\n   </td>\n   <td>\n    Cedarbrae\n   </td>\n  </tr>\n  <tr>\n   <td>\n    M2H\n   </td>\n   <td>\n    North York\n   </td>\n   <td>\n    Hillcrest Village\n   </td>\n  </tr>\n  <tr>\n   <td>\n    M3H\n   </td>\n   <td>\n    North York\n   </td>\n   <td>\n    Bathurst Manor, Wilson Heights, Downsview North\n   </td>\n  </tr>\n  <tr>\n   <td>\n    M4H\n   </td>\n   <td>\n    East York\n   </td>\n   <td>\n    Thorncliffe Park\n   </td>\n  </tr>\n  <tr>\n   <td>\n    M5H\n   </td>\n   <td>\n    Downtown Toronto\n   </td>\n   <td>\n    Richmond, Adelaide, King\n   </td>\n  </tr>\n  <tr>\n   <td>\n    M6H\n   </td>\n   <td>\n    West Toronto\n   </td>\n   <td>\n    Dufferin, Dovercourt Village\n   </td>\n  </tr>\n  <tr>\n   <td>\n    M7H\n   </td>\n   <td>\n    Not assigned\n   </td>\n   <td>\n   </td>\n  </tr>\n  <tr>\n   <td>\n    M8H\n   </td>\n   <td>\n    Not assigned\n   </td>\n   <td>\n   </td>\n  </tr>\n  <tr>\n   <td>\n    M9H\n   </td>\n   <td>\n    Not assigned\n   </td>\n   <td>\n   </td>\n  </tr>\n  <tr>\n   <td>\n    M1J\n   </td>\n   <td>\n    Scarborough\n   </td>\n   <td>\n    Scarborough Village\n   </td>\n  </tr>\n  <tr>\n   <td>\n    M2J\n   </td>\n   <td>\n    North York\n   </td>\n   <td>\n    Fairview, Henry Farm, Oriole\n   </td>\n  </tr>\n  <tr>\n   <td>\n    M3J\n   </td>\n   <td>\n    North York\n   </td>\n   <td>\n    Northwood Park, York University\n   </td>\n  </tr>\n  <tr>\n   <td>\n    M4J\n   </td>\n   <td>\n    East York\n   </td>\n   <td>\n    East Toronto\n   </td>\n  </tr>\n  <tr>\n   <td>\n    M5J\n   </td>\n   <td>\n    Downtown Toronto\n   </td>\n   <td>\n    Harbourfront East, Union Station, Toronto Islands\n   </td>\n  </tr>\n  <tr>\n   <td>\n    M6J\n   </td>\n   <td>\n    West Toronto\n   </td>\n   <td>\n    Little Portugal, Trinity\n   </td>\n  </tr>\n  <tr>\n   <td>\n    M7J\n   </td>\n   <td>\n    Not assigned\n   </td>\n   <td>\n   </td>\n  </tr>\n  <tr>\n   <td>\n    M8J\n   </td>\n   <td>\n    Not assigned\n   </td>\n   <td>\n   </td>\n  </tr>\n  <tr>\n   <td>\n    M9J\n   </td>\n   <td>\n    Not assigned\n   </td>\n   <td>\n   </td>\n  </tr>\n  <tr>\n   <td>\n    M1K\n   </td>\n   <td>\n    Scarborough\n   </td>\n   <td>\n    Kennedy Park, Ionview, East Birchmount Park\n   </td>\n  </tr>\n  <tr>\n   <td>\n    M2K\n   </td>\n   <td>\n    North York\n   </td>\n   <td>\n    Bayview Village\n   </td>\n  </tr>\n  <tr>\n   <td>\n    M3K\n   </td>\n   <td>\n    North York\n   </td>\n   <td>\n    Downsview\n   </td>\n  </tr>\n  <tr>\n   <td>\n    M4K\n   </td>\n   <td>\n    East Toronto\n   </td>\n   <td>\n    The Danforth West, Riverdale\n   </td>\n  </tr>\n  <tr>\n   <td>\n    M5K\n   </td>\n   <td>\n    Downtown Toronto\n   </td>\n   <td>\n    Toronto Dominion Centre, Design Exchange\n   </td>\n  </tr>\n  <tr>\n   <td>\n    M6K\n   </td>\n   <td>\n    West Toronto\n   </td>\n   <td>\n    Brockton, Parkdale Village, Exhibition Place\n   </td>\n  </tr>\n  <tr>\n   <td>\n    M7K\n   </td>\n   <td>\n    Not assigned\n   </td>\n   <td>\n   </td>\n  </tr>\n  <tr>\n   <td>\n    M8K\n   </td>\n   <td>\n    Not assigned\n   </td>\n   <td>\n   </td>\n  </tr>\n  <tr>\n   <td>\n    M9K\n   </td>\n   <td>\n    Not assigned\n   </td>\n   <td>\n   </td>\n  </tr>\n  <tr>\n   <td>\n    M1L\n   </td>\n   <td>\n    Scarborough\n   </td>\n   <td>\n    Golden Mile, Clairlea, Oakridge\n   </td>\n  </tr>\n  <tr>\n   <td>\n    M2L\n   </td>\n   <td>\n    North York\n   </td>\n   <td>\n    York Mills, Silver Hills\n   </td>\n  </tr>\n  <tr>\n   <td>\n    M3L\n   </td>\n   <td>\n    North York\n   </td>\n   <td>\n    Downsview\n   </td>\n  </tr>\n  <tr>\n   <td>\n    M4L\n   </td>\n   <td>\n    East Toronto\n   </td>\n   <td>\n    India Bazaar, The Beaches West\n   </td>\n  </tr>\n  <tr>\n   <td>\n    M5L\n   </td>\n   <td>\n    Downtown Toronto\n   </td>\n   <td>\n    Commerce Court, Victoria Hotel\n   </td>\n  </tr>\n  <tr>\n   <td>\n    M6L\n   </td>\n   <td>\n    North York\n   </td>\n   <td>\n    North Park, Maple Leaf Park, Upwood Park\n   </td>\n  </tr>\n  <tr>\n   <td>\n    M7L\n   </td>\n   <td>\n    Not assigned\n   </td>\n   <td>\n   </td>\n  </tr>\n  <tr>\n   <td>\n    M8L\n   </td>\n   <td>\n    Not assigned\n   </td>\n   <td>\n   </td>\n  </tr>\n  <tr>\n   <td>\n    M9L\n   </td>\n   <td>\n    North York\n   </td>\n   <td>\n    Humber Summit\n   </td>\n  </tr>\n  <tr>\n   <td>\n    M1M\n   </td>\n   <td>\n    Scarborough\n   </td>\n   <td>\n    Cliffside, Cliffcrest, Scarborough Village West\n   </td>\n  </tr>\n  <tr>\n   <td>\n    M2M\n   </td>\n   <td>\n    North York\n   </td>\n   <td>\n    Willowdale, Newtonbrook\n   </td>\n  </tr>\n  <tr>\n   <td>\n    M3M\n   </td>\n   <td>\n    North York\n   </td>\n   <td>\n    Downsview\n   </td>\n  </tr>\n  <tr>\n   <td>\n    M4M\n   </td>\n   <td>\n    East Toronto\n   </td>\n   <td>\n    Studio District\n   </td>\n  </tr>\n  <tr>\n   <td>\n    M5M\n   </td>\n   <td>\n    North York\n   </td>\n   <td>\n    Bedford Park, Lawrence Manor East\n   </td>\n  </tr>\n  <tr>\n   <td>\n    M6M\n   </td>\n   <td>\n    York\n   </td>\n   <td>\n    Del Ray, Mount Dennis, Keelsdale and Silverthorn\n   </td>\n  </tr>\n  <tr>\n   <td>\n    M7M\n   </td>\n   <td>\n    Not assigned\n   </td>\n   <td>\n   </td>\n  </tr>\n  <tr>\n   <td>\n    M8M\n   </td>\n   <td>\n    Not assigned\n   </td>\n   <td>\n   </td>\n  </tr>\n  <tr>\n   <td>\n    M9M\n   </td>\n   <td>\n    North York\n   </td>\n   <td>\n    Humberlea, Emery\n   </td>\n  </tr>\n  <tr>\n   <td>\n    M1N\n   </td>\n   <td>\n    Scarborough\n   </td>\n   <td>\n    Birch Cliff, Cliffside West\n   </td>\n  </tr>\n  <tr>\n   <td>\n    M2N\n   </td>\n   <td>\n    North York\n   </td>\n   <td>\n    Willowdale\n   </td>\n  </tr>\n  <tr>\n   <td>\n    M3N\n   </td>\n   <td>\n    North York\n   </td>\n   <td>\n    Downsview\n   </td>\n  </tr>\n  <tr>\n   <td>\n    M4N\n   </td>\n   <td>\n    Central Toronto\n   </td>\n   <td>\n    Lawrence Park\n   </td>\n  </tr>\n  <tr>\n   <td>\n    M5N\n   </td>\n   <td>\n    Central Toronto\n   </td>\n   <td>\n    Roselawn\n   </td>\n  </tr>\n  <tr>\n   <td>\n    M6N\n   </td>\n   <td>\n    York\n   </td>\n   <td>\n    Runnymede, The Junction North\n   </td>\n  </tr>\n  <tr>\n   <td>\n    M7N\n   </td>\n   <td>\n    Not assigned\n   </td>\n   <td>\n   </td>\n  </tr>\n  <tr>\n   <td>\n    M8N\n   </td>\n   <td>\n    Not assigned\n   </td>\n   <td>\n   </td>\n  </tr>\n  <tr>\n   <td>\n    M9N\n   </td>\n   <td>\n    York\n   </td>\n   <td>\n    Weston\n   </td>\n  </tr>\n  <tr>\n   <td>\n    M1P\n   </td>\n   <td>\n    Scarborough\n   </td>\n   <td>\n    Dorset Park, Wexford Heights, Scarborough Town Centre\n   </td>\n  </tr>\n  <tr>\n   <td>\n    M2P\n   </td>\n   <td>\n    North York\n   </td>\n   <td>\n    York Mills West\n   </td>\n  </tr>\n  <tr>\n   <td>\n    M3P\n   </td>\n   <td>\n    Not assigned\n   </td>\n   <td>\n   </td>\n  </tr>\n  <tr>\n   <td>\n    M4P\n   </td>\n   <td>\n    Central Toronto\n   </td>\n   <td>\n    Davisville North\n   </td>\n  </tr>\n  <tr>\n   <td>\n    M5P\n   </td>\n   <td>\n    Central Toronto\n   </td>\n   <td>\n    Forest Hill North &amp; West\n   </td>\n  </tr>\n  <tr>\n   <td>\n    M6P\n   </td>\n   <td>\n    West Toronto\n   </td>\n   <td>\n    High Park, The Junction South\n   </td>\n  </tr>\n  <tr>\n   <td>\n    M7P\n   </td>\n   <td>\n    Not assigned\n   </td>\n   <td>\n   </td>\n  </tr>\n  <tr>\n   <td>\n    M8P\n   </td>\n   <td>\n    Not assigned\n   </td>\n   <td>\n   </td>\n  </tr>\n  <tr>\n   <td>\n    M9P\n   </td>\n   <td>\n    Etobicoke\n   </td>\n   <td>\n    Westmount\n   </td>\n  </tr>\n  <tr>\n   <td>\n    M1R\n   </td>\n   <td>\n    Scarborough\n   </td>\n   <td>\n    Wexford, Maryvale\n   </td>\n  </tr>\n  <tr>\n   <td>\n    M2R\n   </td>\n   <td>\n    North York\n   </td>\n   <td>\n    Willowdale\n   </td>\n  </tr>\n  <tr>\n   <td>\n    M3R\n   </td>\n   <td>\n    Not assigned\n   </td>\n   <td>\n   </td>\n  </tr>\n  <tr>\n   <td>\n    M4R\n   </td>\n   <td>\n    Central Toronto\n   </td>\n   <td>\n    North Toronto West\n   </td>\n  </tr>\n  <tr>\n   <td>\n    M5R\n   </td>\n   <td>\n    Central Toronto\n   </td>\n   <td>\n    The Annex, North Midtown, Yorkville\n   </td>\n  </tr>\n  <tr>\n   <td>\n    M6R\n   </td>\n   <td>\n    West Toronto\n   </td>\n   <td>\n    Parkdale, Roncesvalles\n   </td>\n  </tr>\n  <tr>\n   <td>\n    M7R\n   </td>\n   <td>\n    Mississauga\n   </td>\n   <td>\n    Canada Post Gateway Processing Centre\n   </td>\n  </tr>\n  <tr>\n   <td>\n    M8R\n   </td>\n   <td>\n    Not assigned\n   </td>\n   <td>\n   </td>\n  </tr>\n  <tr>\n   <td>\n    M9R\n   </td>\n   <td>\n    Etobicoke\n   </td>\n   <td>\n    Kingsview Village, St. Phillips, Martin Grove Gardens, Richview Gardens\n   </td>\n  </tr>\n  <tr>\n   <td>\n    M1S\n   </td>\n   <td>\n    Scarborough\n   </td>\n   <td>\n    Agincourt\n   </td>\n  </tr>\n  <tr>\n   <td>\n    M2S\n   </td>\n   <td>\n    Not assigned\n   </td>\n   <td>\n   </td>\n  </tr>\n  <tr>\n   <td>\n    M3S\n   </td>\n   <td>\n    Not assigned\n   </td>\n   <td>\n   </td>\n  </tr>\n  <tr>\n   <td>\n    M4S\n   </td>\n   <td>\n    Central Toronto\n   </td>\n   <td>\n    Davisville\n   </td>\n  </tr>\n  <tr>\n   <td>\n    M5S\n   </td>\n   <td>\n    Downtown Toronto\n   </td>\n   <td>\n    University of Toronto, Harbord\n   </td>\n  </tr>\n  <tr>\n   <td>\n    M6S\n   </td>\n   <td>\n    West Toronto\n   </td>\n   <td>\n    Runnymede, Swansea\n   </td>\n  </tr>\n  <tr>\n   <td>\n    M7S\n   </td>\n   <td>\n    Not assigned\n   </td>\n   <td>\n   </td>\n  </tr>\n  <tr>\n   <td>\n    M8S\n   </td>\n   <td>\n    Not assigned\n   </td>\n   <td>\n   </td>\n  </tr>\n  <tr>\n   <td>\n    M9S\n   </td>\n   <td>\n    Not assigned\n   </td>\n   <td>\n   </td>\n  </tr>\n  <tr>\n   <td>\n    M1T\n   </td>\n   <td>\n    Scarborough\n   </td>\n   <td>\n    Clarks Corners, Tam O'Shanter, Sullivan\n   </td>\n  </tr>\n  <tr>\n   <td>\n    M2T\n   </td>\n   <td>\n    Not assigned\n   </td>\n   <td>\n   </td>\n  </tr>\n  <tr>\n   <td>\n    M3T\n   </td>\n   <td>\n    Not assigned\n   </td>\n   <td>\n   </td>\n  </tr>\n  <tr>\n   <td>\n    M4T\n   </td>\n   <td>\n    Central Toronto\n   </td>\n   <td>\n    Moore Park, Summerhill East\n   </td>\n  </tr>\n  <tr>\n   <td>\n    M5T\n   </td>\n   <td>\n    Downtown Toronto\n   </td>\n   <td>\n    Kensington Market, Chinatown, Grange Park\n   </td>\n  </tr>\n  <tr>\n   <td>\n    M6T\n   </td>\n   <td>\n    Not assigned\n   </td>\n   <td>\n   </td>\n  </tr>\n  <tr>\n   <td>\n    M7T\n   </td>\n   <td>\n    Not assigned\n   </td>\n   <td>\n   </td>\n  </tr>\n  <tr>\n   <td>\n    M8T\n   </td>\n   <td>\n    Not assigned\n   </td>\n   <td>\n   </td>\n  </tr>\n  <tr>\n   <td>\n    M9T\n   </td>\n   <td>\n    Not assigned\n   </td>\n   <td>\n   </td>\n  </tr>\n  <tr>\n   <td>\n    M1V\n   </td>\n   <td>\n    Scarborough\n   </td>\n   <td>\n    Milliken, Agincourt North, Steeles East, L'Amoreaux East\n   </td>\n  </tr>\n  <tr>\n   <td>\n    M2V\n   </td>\n   <td>\n    Not assigned\n   </td>\n   <td>\n   </td>\n  </tr>\n  <tr>\n   <td>\n    M3V\n   </td>\n   <td>\n    Not assigned\n   </td>\n   <td>\n   </td>\n  </tr>\n  <tr>\n   <td>\n    M4V\n   </td>\n   <td>\n    Central Toronto\n   </td>\n   <td>\n    Summerhill West, Rathnelly, South Hill, Forest Hill SE, Deer Park\n   </td>\n  </tr>\n  <tr>\n   <td>\n    M5V\n   </td>\n   <td>\n    Downtown Toronto\n   </td>\n   <td>\n    CN Tower, King and Spadina, Railway Lands, Harbourfront West, Bathurst Quay, South Niagara, Island airport\n   </td>\n  </tr>\n  <tr>\n   <td>\n    M6V\n   </td>\n   <td>\n    Not assigned\n   </td>\n   <td>\n   </td>\n  </tr>\n  <tr>\n   <td>\n    M7V\n   </td>\n   <td>\n    Not assigned\n   </td>\n   <td>\n   </td>\n  </tr>\n  <tr>\n   <td>\n    M8V\n   </td>\n   <td>\n    Etobicoke\n   </td>\n   <td>\n    New Toronto, Mimico South, Humber Bay Shores\n   </td>\n  </tr>\n  <tr>\n   <td>\n    M9V\n   </td>\n   <td>\n    Etobicoke\n   </td>\n   <td>\n    South Steeles, Silverstone, Humbergate, Jamestown, Mount Olive, Beaumond Heights, Thistletown, Albion Gardens\n   </td>\n  </tr>\n  <tr>\n   <td>\n    M1W\n   </td>\n   <td>\n    Scarborough\n   </td>\n   <td>\n    Steeles West, L'Amoreaux West\n   </td>\n  </tr>\n  <tr>\n   <td>\n    M2W\n   </td>\n   <td>\n    Not assigned\n   </td>\n   <td>\n   </td>\n  </tr>\n  <tr>\n   <td>\n    M3W\n   </td>\n   <td>\n    Not assigned\n   </td>\n   <td>\n   </td>\n  </tr>\n  <tr>\n   <td>\n    M4W\n   </td>\n   <td>\n    Downtown Toronto\n   </td>\n   <td>\n    Rosedale\n   </td>\n  </tr>\n  <tr>\n   <td>\n    M5W\n   </td>\n   <td>\n    Downtown Toronto\n   </td>\n   <td>\n    Stn A PO Boxes\n   </td>\n  </tr>\n  <tr>\n   <td>\n    M6W\n   </td>\n   <td>\n    Not assigned\n   </td>\n   <td>\n   </td>\n  </tr>\n  <tr>\n   <td>\n    M7W\n   </td>\n   <td>\n    Not assigned\n   </td>\n   <td>\n   </td>\n  </tr>\n  <tr>\n   <td>\n    M8W\n   </td>\n   <td>\n    Etobicoke\n   </td>\n   <td>\n    Alderwood, Long Branch\n   </td>\n  </tr>\n  <tr>\n   <td>\n    M9W\n   </td>\n   <td>\n    Etobicoke\n   </td>\n   <td>\n    Northwest\n   </td>\n  </tr>\n  <tr>\n   <td>\n    M1X\n   </td>\n   <td>\n    Scarborough\n   </td>\n   <td>\n    Upper Rouge\n   </td>\n  </tr>\n  <tr>\n   <td>\n    M2X\n   </td>\n   <td>\n    Not assigned\n   </td>\n   <td>\n   </td>\n  </tr>\n  <tr>\n   <td>\n    M3X\n   </td>\n   <td>\n    Not assigned\n   </td>\n   <td>\n   </td>\n  </tr>\n  <tr>\n   <td>\n    M4X\n   </td>\n   <td>\n    Downtown Toronto\n   </td>\n   <td>\n    St. James Town, Cabbagetown\n   </td>\n  </tr>\n  <tr>\n   <td>\n    M5X\n   </td>\n   <td>\n    Downtown Toronto\n   </td>\n   <td>\n    First Canadian Place, Underground city\n   </td>\n  </tr>\n  <tr>\n   <td>\n    M6X\n   </td>\n   <td>\n    Not assigned\n   </td>\n   <td>\n   </td>\n  </tr>\n  <tr>\n   <td>\n    M7X\n   </td>\n   <td>\n    Not assigned\n   </td>\n   <td>\n   </td>\n  </tr>\n  <tr>\n   <td>\n    M8X\n   </td>\n   <td>\n    Etobicoke\n   </td>\n   <td>\n    The Kingsway, Montgomery Road, Old Mill North\n   </td>\n  </tr>\n  <tr>\n   <td>\n    M9X\n   </td>\n   <td>\n    Not assigned\n   </td>\n   <td>\n   </td>\n  </tr>\n  <tr>\n   <td>\n    M1Y\n   </td>\n   <td>\n    Not assigned\n   </td>\n   <td>\n   </td>\n  </tr>\n  <tr>\n   <td>\n    M2Y\n   </td>\n   <td>\n    Not assigned\n   </td>\n   <td>\n   </td>\n  </tr>\n  <tr>\n   <td>\n    M3Y\n   </td>\n   <td>\n    Not assigned\n   </td>\n   <td>\n   </td>\n  </tr>\n  <tr>\n   <td>\n    M4Y\n   </td>\n   <td>\n    Downtown Toronto\n   </td>\n   <td>\n    Church and Wellesley\n   </td>\n  </tr>\n  <tr>\n   <td>\n    M5Y\n   </td>\n   <td>\n    Not assigned\n   </td>\n   <td>\n   </td>\n  </tr>\n  <tr>\n   <td>\n    M6Y\n   </td>\n   <td>\n    Not assigned\n   </td>\n   <td>\n   </td>\n  </tr>\n  <tr>\n   <td>\n    M7Y\n   </td>\n   <td>\n    East Toronto\n   </td>\n   <td>\n    Business reply mail Processing Centre\n   </td>\n  </tr>\n  <tr>\n   <td>\n    M8Y\n   </td>\n   <td>\n    Etobicoke\n   </td>\n   <td>\n    Old Mill South, King's Mill Park, Sunnylea, Humber Bay, Mimico NE, The Queensway East, Royal York South East, Kingsway Park South East\n   </td>\n  </tr>\n  <tr>\n   <td>\n    M9Y\n   </td>\n   <td>\n    Not assigned\n   </td>\n   <td>\n   </td>\n  </tr>\n  <tr>\n   <td>\n    M1Z\n   </td>\n   <td>\n    Not assigned\n   </td>\n   <td>\n   </td>\n  </tr>\n  <tr>\n   <td>\n    M2Z\n   </td>\n   <td>\n    Not assigned\n   </td>\n   <td>\n   </td>\n  </tr>\n  <tr>\n   <td>\n    M3Z\n   </td>\n   <td>\n    Not assigned\n   </td>\n   <td>\n   </td>\n  </tr>\n  <tr>\n   <td>\n    M4Z\n   </td>\n   <td>\n    Not assigned\n   </td>\n   <td>\n   </td>\n  </tr>\n  <tr>\n   <td>\n    M5Z\n   </td>\n   <td>\n    Not assigned\n   </td>\n   <td>\n   </td>\n  </tr>\n  <tr>\n   <td>\n    M6Z\n   </td>\n   <td>\n    Not assigned\n   </td>\n   <td>\n   </td>\n  </tr>\n  <tr>\n   <td>\n    M7Z\n   </td>\n   <td>\n    Not assigned\n   </td>\n   <td>\n   </td>\n  </tr>\n  <tr>\n   <td>\n    M8Z\n   </td>\n   <td>\n    Etobicoke\n   </td>\n   <td>\n    Mimico NW, The Queensway West, South of Bloor, Kingsway Park South West, Royal York South West\n   </td>\n  </tr>\n  <tr>\n   <td>\n    M9Z\n   </td>\n   <td>\n    Not assigned\n   </td>\n   <td>\n   </td>\n  </tr>\n </tbody>\n</table>\n\n"
    }
   ],
   "source": [
    "print(soup.find('table').prettify())"
   ]
  },
  {
   "cell_type": "code",
   "execution_count": 6,
   "metadata": {},
   "outputs": [],
   "source": [
    "table = soup.find('table')"
   ]
  },
  {
   "cell_type": "markdown",
   "metadata": {},
   "source": [
    "Assuming that a row would have exactly 3 cells."
   ]
  },
  {
   "cell_type": "code",
   "execution_count": 7,
   "metadata": {},
   "outputs": [],
   "source": [
    "data = []\n",
    "for row in table.find_all('tr')[1:]:\n",
    "    cells = row.find_all('td')\n",
    "    if len(cells) != 3:\n",
    "        continue\n",
    "    if cells[1].text[:-1] == 'Not assigned':\n",
    "        continue\n",
    "    data.append([c.text[:-1] for c in cells])"
   ]
  },
  {
   "cell_type": "code",
   "execution_count": 8,
   "metadata": {},
   "outputs": [],
   "source": [
    "df = pd.DataFrame(data, columns=['PostalCode', 'Borough', 'Neighborhood'])"
   ]
  },
  {
   "cell_type": "code",
   "execution_count": 9,
   "metadata": {},
   "outputs": [
    {
     "output_type": "execute_result",
     "data": {
      "text/plain": "  PostalCode           Borough                                 Neighborhood\n0        M3A        North York                                    Parkwoods\n1        M4A        North York                             Victoria Village\n2        M5A  Downtown Toronto                    Regent Park, Harbourfront\n3        M6A        North York             Lawrence Manor, Lawrence Heights\n4        M7A  Downtown Toronto  Queen's Park, Ontario Provincial Government",
      "text/html": "<div>\n<style scoped>\n    .dataframe tbody tr th:only-of-type {\n        vertical-align: middle;\n    }\n\n    .dataframe tbody tr th {\n        vertical-align: top;\n    }\n\n    .dataframe thead th {\n        text-align: right;\n    }\n</style>\n<table border=\"1\" class=\"dataframe\">\n  <thead>\n    <tr style=\"text-align: right;\">\n      <th></th>\n      <th>PostalCode</th>\n      <th>Borough</th>\n      <th>Neighborhood</th>\n    </tr>\n  </thead>\n  <tbody>\n    <tr>\n      <th>0</th>\n      <td>M3A</td>\n      <td>North York</td>\n      <td>Parkwoods</td>\n    </tr>\n    <tr>\n      <th>1</th>\n      <td>M4A</td>\n      <td>North York</td>\n      <td>Victoria Village</td>\n    </tr>\n    <tr>\n      <th>2</th>\n      <td>M5A</td>\n      <td>Downtown Toronto</td>\n      <td>Regent Park, Harbourfront</td>\n    </tr>\n    <tr>\n      <th>3</th>\n      <td>M6A</td>\n      <td>North York</td>\n      <td>Lawrence Manor, Lawrence Heights</td>\n    </tr>\n    <tr>\n      <th>4</th>\n      <td>M7A</td>\n      <td>Downtown Toronto</td>\n      <td>Queen's Park, Ontario Provincial Government</td>\n    </tr>\n  </tbody>\n</table>\n</div>"
     },
     "metadata": {},
     "execution_count": 9
    }
   ],
   "source": [
    "df.head()"
   ]
  },
  {
   "cell_type": "code",
   "execution_count": 10,
   "metadata": {},
   "outputs": [
    {
     "output_type": "execute_result",
     "data": {
      "text/plain": "Empty DataFrame\nColumns: [PostalCode, Borough, Neighborhood]\nIndex: []",
      "text/html": "<div>\n<style scoped>\n    .dataframe tbody tr th:only-of-type {\n        vertical-align: middle;\n    }\n\n    .dataframe tbody tr th {\n        vertical-align: top;\n    }\n\n    .dataframe thead th {\n        text-align: right;\n    }\n</style>\n<table border=\"1\" class=\"dataframe\">\n  <thead>\n    <tr style=\"text-align: right;\">\n      <th></th>\n      <th>PostalCode</th>\n      <th>Borough</th>\n      <th>Neighborhood</th>\n    </tr>\n  </thead>\n  <tbody>\n  </tbody>\n</table>\n</div>"
     },
     "metadata": {},
     "execution_count": 10
    }
   ],
   "source": [
    "df[df.Neighborhood == 'Not assigned']"
   ]
  },
  {
   "cell_type": "code",
   "execution_count": 11,
   "metadata": {},
   "outputs": [
    {
     "output_type": "execute_result",
     "data": {
      "text/plain": "    PostalCode           Borough  \\\n0          M3A        North York   \n1          M4A        North York   \n2          M5A  Downtown Toronto   \n3          M6A        North York   \n4          M7A  Downtown Toronto   \n..         ...               ...   \n98         M8X         Etobicoke   \n99         M4Y  Downtown Toronto   \n100        M7Y      East Toronto   \n101        M8Y         Etobicoke   \n102        M8Z         Etobicoke   \n\n                                          Neighborhood  \n0                                            Parkwoods  \n1                                     Victoria Village  \n2                            Regent Park, Harbourfront  \n3                     Lawrence Manor, Lawrence Heights  \n4          Queen's Park, Ontario Provincial Government  \n..                                                 ...  \n98       The Kingsway, Montgomery Road, Old Mill North  \n99                                Church and Wellesley  \n100              Business reply mail Processing Centre  \n101  Old Mill South, King's Mill Park, Sunnylea, Hu...  \n102  Mimico NW, The Queensway West, South of Bloor,...  \n\n[103 rows x 3 columns]",
      "text/html": "<div>\n<style scoped>\n    .dataframe tbody tr th:only-of-type {\n        vertical-align: middle;\n    }\n\n    .dataframe tbody tr th {\n        vertical-align: top;\n    }\n\n    .dataframe thead th {\n        text-align: right;\n    }\n</style>\n<table border=\"1\" class=\"dataframe\">\n  <thead>\n    <tr style=\"text-align: right;\">\n      <th></th>\n      <th>PostalCode</th>\n      <th>Borough</th>\n      <th>Neighborhood</th>\n    </tr>\n  </thead>\n  <tbody>\n    <tr>\n      <th>0</th>\n      <td>M3A</td>\n      <td>North York</td>\n      <td>Parkwoods</td>\n    </tr>\n    <tr>\n      <th>1</th>\n      <td>M4A</td>\n      <td>North York</td>\n      <td>Victoria Village</td>\n    </tr>\n    <tr>\n      <th>2</th>\n      <td>M5A</td>\n      <td>Downtown Toronto</td>\n      <td>Regent Park, Harbourfront</td>\n    </tr>\n    <tr>\n      <th>3</th>\n      <td>M6A</td>\n      <td>North York</td>\n      <td>Lawrence Manor, Lawrence Heights</td>\n    </tr>\n    <tr>\n      <th>4</th>\n      <td>M7A</td>\n      <td>Downtown Toronto</td>\n      <td>Queen's Park, Ontario Provincial Government</td>\n    </tr>\n    <tr>\n      <th>...</th>\n      <td>...</td>\n      <td>...</td>\n      <td>...</td>\n    </tr>\n    <tr>\n      <th>98</th>\n      <td>M8X</td>\n      <td>Etobicoke</td>\n      <td>The Kingsway, Montgomery Road, Old Mill North</td>\n    </tr>\n    <tr>\n      <th>99</th>\n      <td>M4Y</td>\n      <td>Downtown Toronto</td>\n      <td>Church and Wellesley</td>\n    </tr>\n    <tr>\n      <th>100</th>\n      <td>M7Y</td>\n      <td>East Toronto</td>\n      <td>Business reply mail Processing Centre</td>\n    </tr>\n    <tr>\n      <th>101</th>\n      <td>M8Y</td>\n      <td>Etobicoke</td>\n      <td>Old Mill South, King's Mill Park, Sunnylea, Hu...</td>\n    </tr>\n    <tr>\n      <th>102</th>\n      <td>M8Z</td>\n      <td>Etobicoke</td>\n      <td>Mimico NW, The Queensway West, South of Bloor,...</td>\n    </tr>\n  </tbody>\n</table>\n<p>103 rows × 3 columns</p>\n</div>"
     },
     "metadata": {},
     "execution_count": 11
    }
   ],
   "source": [
    "df"
   ]
  },
  {
   "cell_type": "code",
   "execution_count": 12,
   "metadata": {},
   "outputs": [
    {
     "output_type": "execute_result",
     "data": {
      "text/plain": "(103, 3)"
     },
     "metadata": {},
     "execution_count": 12
    }
   ],
   "source": [
    "df.shape"
   ]
  },
  {
   "cell_type": "code",
   "execution_count": 13,
   "metadata": {},
   "outputs": [],
   "source": [
    "df_coordinates = pd.read_csv('../data/Geospatial_Coordinates.csv')"
   ]
  },
  {
   "cell_type": "code",
   "execution_count": 14,
   "metadata": {},
   "outputs": [
    {
     "output_type": "execute_result",
     "data": {
      "text/plain": "  Postal Code   Latitude  Longitude\n0         M1B  43.806686 -79.194353\n1         M1C  43.784535 -79.160497\n2         M1E  43.763573 -79.188711\n3         M1G  43.770992 -79.216917\n4         M1H  43.773136 -79.239476",
      "text/html": "<div>\n<style scoped>\n    .dataframe tbody tr th:only-of-type {\n        vertical-align: middle;\n    }\n\n    .dataframe tbody tr th {\n        vertical-align: top;\n    }\n\n    .dataframe thead th {\n        text-align: right;\n    }\n</style>\n<table border=\"1\" class=\"dataframe\">\n  <thead>\n    <tr style=\"text-align: right;\">\n      <th></th>\n      <th>Postal Code</th>\n      <th>Latitude</th>\n      <th>Longitude</th>\n    </tr>\n  </thead>\n  <tbody>\n    <tr>\n      <th>0</th>\n      <td>M1B</td>\n      <td>43.806686</td>\n      <td>-79.194353</td>\n    </tr>\n    <tr>\n      <th>1</th>\n      <td>M1C</td>\n      <td>43.784535</td>\n      <td>-79.160497</td>\n    </tr>\n    <tr>\n      <th>2</th>\n      <td>M1E</td>\n      <td>43.763573</td>\n      <td>-79.188711</td>\n    </tr>\n    <tr>\n      <th>3</th>\n      <td>M1G</td>\n      <td>43.770992</td>\n      <td>-79.216917</td>\n    </tr>\n    <tr>\n      <th>4</th>\n      <td>M1H</td>\n      <td>43.773136</td>\n      <td>-79.239476</td>\n    </tr>\n  </tbody>\n</table>\n</div>"
     },
     "metadata": {},
     "execution_count": 14
    }
   ],
   "source": [
    "df_coordinates.head()"
   ]
  },
  {
   "cell_type": "code",
   "execution_count": 15,
   "metadata": {},
   "outputs": [],
   "source": [
    "df = df.join(df_coordinates.set_index('Postal Code'), on='PostalCode')"
   ]
  },
  {
   "cell_type": "markdown",
   "metadata": {},
   "source": [
    "Check df Shape"
   ]
  },
  {
   "cell_type": "code",
   "execution_count": 16,
   "metadata": {},
   "outputs": [
    {
     "output_type": "execute_result",
     "data": {
      "text/plain": "(103, 5)"
     },
     "metadata": {},
     "execution_count": 16
    }
   ],
   "source": [
    "df.shape"
   ]
  },
  {
   "cell_type": "code",
   "execution_count": 17,
   "metadata": {},
   "outputs": [
    {
     "output_type": "execute_result",
     "data": {
      "text/plain": "  PostalCode           Borough                                 Neighborhood  \\\n0        M3A        North York                                    Parkwoods   \n1        M4A        North York                             Victoria Village   \n2        M5A  Downtown Toronto                    Regent Park, Harbourfront   \n3        M6A        North York             Lawrence Manor, Lawrence Heights   \n4        M7A  Downtown Toronto  Queen's Park, Ontario Provincial Government   \n\n    Latitude  Longitude  \n0  43.753259 -79.329656  \n1  43.725882 -79.315572  \n2  43.654260 -79.360636  \n3  43.718518 -79.464763  \n4  43.662301 -79.389494  ",
      "text/html": "<div>\n<style scoped>\n    .dataframe tbody tr th:only-of-type {\n        vertical-align: middle;\n    }\n\n    .dataframe tbody tr th {\n        vertical-align: top;\n    }\n\n    .dataframe thead th {\n        text-align: right;\n    }\n</style>\n<table border=\"1\" class=\"dataframe\">\n  <thead>\n    <tr style=\"text-align: right;\">\n      <th></th>\n      <th>PostalCode</th>\n      <th>Borough</th>\n      <th>Neighborhood</th>\n      <th>Latitude</th>\n      <th>Longitude</th>\n    </tr>\n  </thead>\n  <tbody>\n    <tr>\n      <th>0</th>\n      <td>M3A</td>\n      <td>North York</td>\n      <td>Parkwoods</td>\n      <td>43.753259</td>\n      <td>-79.329656</td>\n    </tr>\n    <tr>\n      <th>1</th>\n      <td>M4A</td>\n      <td>North York</td>\n      <td>Victoria Village</td>\n      <td>43.725882</td>\n      <td>-79.315572</td>\n    </tr>\n    <tr>\n      <th>2</th>\n      <td>M5A</td>\n      <td>Downtown Toronto</td>\n      <td>Regent Park, Harbourfront</td>\n      <td>43.654260</td>\n      <td>-79.360636</td>\n    </tr>\n    <tr>\n      <th>3</th>\n      <td>M6A</td>\n      <td>North York</td>\n      <td>Lawrence Manor, Lawrence Heights</td>\n      <td>43.718518</td>\n      <td>-79.464763</td>\n    </tr>\n    <tr>\n      <th>4</th>\n      <td>M7A</td>\n      <td>Downtown Toronto</td>\n      <td>Queen's Park, Ontario Provincial Government</td>\n      <td>43.662301</td>\n      <td>-79.389494</td>\n    </tr>\n  </tbody>\n</table>\n</div>"
     },
     "metadata": {},
     "execution_count": 17
    }
   ],
   "source": [
    "df.head()"
   ]
  },
  {
   "cell_type": "code",
   "execution_count": null,
   "metadata": {},
   "outputs": [],
   "source": []
  }
 ],
 "metadata": {
  "language_info": {
   "codemirror_mode": {
    "name": "ipython",
    "version": 3
   },
   "file_extension": ".py",
   "mimetype": "text/x-python",
   "name": "python",
   "nbconvert_exporter": "python",
   "pygments_lexer": "ipython3",
   "version": "3.7.7-final"
  },
  "orig_nbformat": 2,
  "kernelspec": {
   "name": "python37764bita147cfeb05e843faa5552f9290b0b0c7",
   "display_name": "Python 3.7.7 64-bit"
  }
 },
 "nbformat": 4,
 "nbformat_minor": 2
}