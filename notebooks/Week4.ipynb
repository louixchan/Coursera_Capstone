{
 "cells": [
  {
   "cell_type": "code",
   "execution_count": 36,
   "metadata": {},
   "outputs": [
    {
     "output_type": "stream",
     "name": "stdout",
     "text": "Libraries imported.\n"
    }
   ],
   "source": [
    "import pandas as pd\n",
    "import numpy as np\n",
    "import requests\n",
    "from bs4 import BeautifulSoup\n",
    "from geopy.geocoders import Nominatim # convert an address into latitude and longitude values\n",
    "\n",
    "import json # library to handle JSON files\n",
    "\n",
    "import requests # library to handle requests\n",
    "from pandas.io.json import json_normalize # tranform JSON file into a pandas dataframe\n",
    "\n",
    "# Matplotlib and associated plotting modules\n",
    "import matplotlib.cm as cm\n",
    "import matplotlib.colors as colors\n",
    "\n",
    "# import k-means from clustering stage\n",
    "from sklearn.cluster import KMeans\n",
    "\n",
    "#!conda install -c conda-forge folium=0.5.0 --yes # uncomment this line if you haven't completed the Foursquare API lab\n",
    "import folium # map rendering library\n",
    "\n",
    "import lxml\n",
    "\n",
    "import re\n",
    "\n",
    "print('Libraries imported.')"
   ]
  },
  {
   "cell_type": "code",
   "execution_count": 16,
   "metadata": {},
   "outputs": [],
   "source": [
    "dict_link = {\n",
    "    'Houston': 'https://en.wikipedia.org/wiki/List_of_Houston_neighborhoods',\n",
    "    'Chicago': 'https://en.wikipedia.org/wiki/List_of_neighborhoods_in_Chicago'\n",
    "}\n",
    "\n",
    "dict_cities = {\n",
    "    \n",
    "}"
   ]
  },
  {
   "cell_type": "code",
   "execution_count": 26,
   "metadata": {},
   "outputs": [],
   "source": [
    "def get_coord(address):\n",
    "\n",
    "    geolocator = Nominatim(user_agent=\"to_explorer\")\n",
    "    try:\n",
    "        location = geolocator.geocode(address)\n",
    "        latitude = location.latitude\n",
    "        longitude = location.longitude\n",
    "        print(f'The geograpical coordinate of {address} are {latitude:.2f}, {longitude:.2f}.')\n",
    "        return latitude, longitude\n",
    "    except:\n",
    "        return None, None"
   ]
  },
  {
   "cell_type": "markdown",
   "metadata": {},
   "source": [
    "## Download Data"
   ]
  },
  {
   "cell_type": "markdown",
   "metadata": {},
   "source": [
    "### New York"
   ]
  },
  {
   "cell_type": "code",
   "execution_count": 17,
   "metadata": {},
   "outputs": [],
   "source": [
    "with open('../data/newyork_data.json') as json_data:\n",
    "    newyork_data = json.load(json_data)\n",
    "\n",
    "neighborhoods_data = newyork_data['features']\n",
    "\n",
    "# define the dataframe columns\n",
    "column_names = ['Borough', 'Neighborhood', 'Latitude', 'Longitude'] \n",
    "\n",
    "# instantiate the dataframe\n",
    "neighborhoods = pd.DataFrame(columns=column_names)\n",
    "\n",
    "for data in neighborhoods_data:\n",
    "    borough = neighborhood_name = data['properties']['borough'] \n",
    "    neighborhood_name = data['properties']['name']\n",
    "        \n",
    "    neighborhood_latlon = data['geometry']['coordinates']\n",
    "    neighborhood_lat = neighborhood_latlon[1]\n",
    "    neighborhood_lon = neighborhood_latlon[0]\n",
    "    \n",
    "    neighborhoods = neighborhoods.append({'Borough': borough,\n",
    "                                          'Neighborhood': neighborhood_name,\n",
    "                                          'Latitude': neighborhood_lat,\n",
    "                                          'Longitude': neighborhood_lon}, ignore_index=True)\n",
    "\n",
    "dict_cities['New York'] = neighborhoods"
   ]
  },
  {
   "cell_type": "markdown",
   "metadata": {},
   "source": [
    "### Houston"
   ]
  },
  {
   "cell_type": "code",
   "execution_count": 18,
   "metadata": {},
   "outputs": [],
   "source": [
    "table = pd.read_html('https://en.wikipedia.org/wiki/List_of_Houston_neighborhoods', header=0)[0]"
   ]
  },
  {
   "cell_type": "code",
   "execution_count": 19,
   "metadata": {},
   "outputs": [
    {
     "output_type": "execute_result",
     "data": {
      "text/plain": "   #                            Name Location relative to Downtown Houston  \\\n0  1                     Willowbrook                             Northwest   \n1  2             Greater Greenspoint                                 North   \n2  3                      Carverdale                             Northwest   \n3  4  Fairbanks / Northwest Crossing                             Northwest   \n4  5                  Greater Inwood                             Northwest   \n\n                              Approximate boundaries  \n0  Along Texas State Highway 249 northwest of Bel...  \n1  Around the junction of Beltway 8 and Interstat...  \n2  South of the junction of Beltway 8 and U.S. Ro...  \n3  Along U.S. Route 290 between Interstate 610 an...  \n4  North of Fairbanks / Northwest Crossing and ea...  ",
      "text/html": "<div>\n<style scoped>\n    .dataframe tbody tr th:only-of-type {\n        vertical-align: middle;\n    }\n\n    .dataframe tbody tr th {\n        vertical-align: top;\n    }\n\n    .dataframe thead th {\n        text-align: right;\n    }\n</style>\n<table border=\"1\" class=\"dataframe\">\n  <thead>\n    <tr style=\"text-align: right;\">\n      <th></th>\n      <th>#</th>\n      <th>Name</th>\n      <th>Location relative to Downtown Houston</th>\n      <th>Approximate boundaries</th>\n    </tr>\n  </thead>\n  <tbody>\n    <tr>\n      <th>0</th>\n      <td>1</td>\n      <td>Willowbrook</td>\n      <td>Northwest</td>\n      <td>Along Texas State Highway 249 northwest of Bel...</td>\n    </tr>\n    <tr>\n      <th>1</th>\n      <td>2</td>\n      <td>Greater Greenspoint</td>\n      <td>North</td>\n      <td>Around the junction of Beltway 8 and Interstat...</td>\n    </tr>\n    <tr>\n      <th>2</th>\n      <td>3</td>\n      <td>Carverdale</td>\n      <td>Northwest</td>\n      <td>South of the junction of Beltway 8 and U.S. Ro...</td>\n    </tr>\n    <tr>\n      <th>3</th>\n      <td>4</td>\n      <td>Fairbanks / Northwest Crossing</td>\n      <td>Northwest</td>\n      <td>Along U.S. Route 290 between Interstate 610 an...</td>\n    </tr>\n    <tr>\n      <th>4</th>\n      <td>5</td>\n      <td>Greater Inwood</td>\n      <td>Northwest</td>\n      <td>North of Fairbanks / Northwest Crossing and ea...</td>\n    </tr>\n  </tbody>\n</table>\n</div>"
     },
     "metadata": {},
     "execution_count": 19
    }
   ],
   "source": [
    "table.head()"
   ]
  },
  {
   "cell_type": "code",
   "execution_count": 40,
   "metadata": {},
   "outputs": [],
   "source": [
    "neighborhoods = pd.Series(re.split(',; | / ', ',; '.join(table.rename(columns={'Name': 'Neighborhood'})['Neighborhood'].tolist())), name='Neighborhood').to_frame()"
   ]
  },
  {
   "cell_type": "code",
   "execution_count": 42,
   "metadata": {},
   "outputs": [
    {
     "output_type": "stream",
     "name": "stdout",
     "text": "The geograpical coordinate of Willowbrook, Houston, USA are 29.66, -95.46.\nThe geograpical coordinate of Greater Greenspoint, Houston, USA are 29.94, -95.42.\nThe geograpical coordinate of Carverdale, Houston, USA are 29.85, -95.54.\nThe geograpical coordinate of Fairbanks, Houston, USA are 29.85, -95.52.\nThe geograpical coordinate of Northwest Crossing, Houston, USA are 29.85, -95.50.\nThe geograpical coordinate of Acres Home, Houston, USA are 29.77, -95.33.\nThe geograpical coordinate of Hidden Valley, Houston, USA are 33.59, -84.19.\nThe geograpical coordinate of Westbranch, Houston, USA are 29.84, -95.55.\nThe geograpical coordinate of Addicks, Houston, USA are 29.78, -95.64.\nThe geograpical coordinate of Spring Branch West, Houston, USA are 29.80, -95.55.\nThe geograpical coordinate of Langwood, Houston, USA are 29.83, -95.48.\nThe geograpical coordinate of Independence Heights, Houston, USA are 29.84, -95.40.\nThe geograpical coordinate of Lazybrook, Houston, USA are 29.80, -95.44.\nThe geograpical coordinate of Timbergrove, Houston, USA are 29.80, -95.42.\nThe geograpical coordinate of Eldridge, Houston, USA are 29.47, -96.36.\nThe geograpical coordinate of West Oaks, Houston, USA are 29.76, -95.47.\nThe geograpical coordinate of Briar Forest, Houston, USA are 33.00, -97.54.\nThe geograpical coordinate of Westchase, Houston, USA are 28.06, -82.61.\nThe geograpical coordinate of Greater Uptown, Houston, USA are 29.94, -90.13.\nThe geograpical coordinate of Memorial Park, Houston, USA are 29.77, -95.44.\nThe geograpical coordinate of Afton Oaks, Houston, USA are 29.73, -95.45.\nThe geograpical coordinate of River Oaks, Houston, USA are 29.75, -95.44.\nThe geograpical coordinate of Montrose, Houston, USA are 39.16, -88.38.\nThe geograpical coordinate of Alief, Houston, USA are 29.71, -95.60.\nThe geograpical coordinate of Sharpstown, Houston, USA are 39.14, -76.22.\nThe geograpical coordinate of Gulfton, Houston, USA are 37.18, -94.54.\nThe geograpical coordinate of University Place, Houston, USA are 37.94, -88.61.\nThe geograpical coordinate of Westwood, Houston, USA are 31.09, -94.16.\nThe geograpical coordinate of Braeburn, Houston, USA are 37.26, -80.03.\nThe geograpical coordinate of Meyerland, Houston, USA are 29.68, -95.47.\nThe geograpical coordinate of Braeswood, Houston, USA are 29.68, -95.48.\nThe geograpical coordinate of Medical Center, Houston, USA are 29.76, -95.37.\nThe geograpical coordinate of Astrodome Area, Houston, USA are 29.69, -95.40.\nThe geograpical coordinate of Westbury, Houston, USA are 30.10, -94.31.\nThe geograpical coordinate of Willow Meadows, Houston, USA are 29.68, -95.45.\nThe geograpical coordinate of Willowbend, Houston, USA are 29.67, -95.50.\nThe geograpical coordinate of Fondren Gardens, Houston, USA are 29.75, -95.36.\nThe geograpical coordinate of Central Southwest, Houston, USA are 35.80, -89.54.\nThe geograpical coordinate of Fort Bend, Houston, USA are 29.69, -95.77.\nThe geograpical coordinate of Houston, Houston, USA are 29.76, -95.37.\nThe geograpical coordinate of IAH Airport, Houston, USA are 29.98, -95.33.\nThe geograpical coordinate of Kingwood, Houston, USA are 30.05, -95.18.\nThe geograpical coordinate of Lake Houston, Houston, USA are 29.76, -95.37.\nThe geograpical coordinate of Northside, Houston, USA are 31.61, -84.17.\nThe geograpical coordinate of Northline, Houston, USA are 44.99, -92.71.\nThe geograpical coordinate of Jensen, Houston, USA are 30.30, -94.81.\nThe geograpical coordinate of East Little York, Houston, USA are 39.89, -84.22.\nThe geograpical coordinate of Homestead, Houston, USA are 39.36, -94.20.\nThe geograpical coordinate of Trinity, Houston, USA are 33.35, -88.46.\nThe geograpical coordinate of Houston Gardens, Houston, USA are 29.76, -95.37.\nThe geograpical coordinate of East Houston, Houston, USA are 29.83, -95.27.\nThe geograpical coordinate of Settegast, Houston, USA are 29.84, -95.28.\nThe geograpical coordinate of Northside Village, Houston, USA are 31.61, -84.17.\nThe geograpical coordinate of Kashmere Gardens, Houston, USA are 29.81, -95.33.\nThe geograpical coordinate of El Dorado, Houston, USA are 31.18, -81.38.\nThe geograpical coordinate of Oates Prairie, Houston, USA are 29.80, -95.24.\nThe geograpical coordinate of Hunterwood, Houston, USA are 29.77, -95.50.\nThe geograpical coordinate of Denver Harbor, Houston, USA are 27.82, -82.61.\nThe geograpical coordinate of Port Houston, Houston, USA are 29.77, -95.28.\nThe geograpical coordinate of Pleasantville Area, Houston, USA are 39.81, -82.52.\nThe geograpical coordinate of Northshore, Houston, USA are 30.03, -95.23.\nThe geograpical coordinate of Clinton Park, Houston, USA are 29.74, -95.26.\nThe geograpical coordinate of Fourth Ward, Houston, USA are 29.81, -85.31.\nThe geograpical coordinate of Downtown, Houston, USA are 21.31, -157.86.\nThe geograpical coordinate of Midtown, Houston, USA are 29.74, -95.38.\nThe geograpical coordinate of Second Ward, Houston, USA are 29.75, -95.34.\nThe geograpical coordinate of Greater Eastwood, Houston, USA are 39.02, -94.54.\nThe geograpical coordinate of Harrisburg, Houston, USA are 29.72, -95.28.\nThe geograpical coordinate of Manchester, Houston, USA are 29.72, -95.26.\nThe geograpical coordinate of Greater Third Ward, Houston, USA are 35.23, -80.85.\nThe geograpical coordinate of South Union, Houston, USA are 41.57, -77.00.\nThe geograpical coordinate of Gulfgate Riverview, Houston, USA are 42.38, -71.24.\nThe geograpical coordinate of Pine Valley, Houston, USA are 30.66, -95.45.\nThe geograpical coordinate of Pecan Park, Houston, USA are 30.51, -81.62.\nThe geograpical coordinate of Sunnyside, Houston, USA are 29.14, -98.05.\nThe geograpical coordinate of South Park, Houston, USA are 41.74, -88.30.\nThe geograpical coordinate of Golfcrest, Houston, USA are 29.69, -95.30.\nThe geograpical coordinate of Bellfort, Houston, USA are 29.67, -95.30.\nThe geograpical coordinate of Reveille, Houston, USA are 29.68, -95.28.\nThe geograpical coordinate of Park Place, Houston, USA are 29.69, -95.28.\nThe geograpical coordinate of Meadowbrook, Houston, USA are 29.68, -95.26.\nThe geograpical coordinate of Allendale, Houston, USA are 29.69, -95.25.\nThe geograpical coordinate of South Acres, Houston, USA are 31.32, -89.34.\nThe geograpical coordinate of Crestmont Park, Houston, USA are 29.64, -95.34.\nThe geograpical coordinate of Minnetex, Houston, USA are 29.62, -95.36.\nThe geograpical coordinate of Edgebrook, Houston, USA are 29.64, -95.25.\nThe geograpical coordinate of Ellington, Houston, USA are 36.76, -85.42.\nThe geograpical coordinate of Clear Lake, Houston, USA are 33.08, -96.50.\nThe geograpical coordinate of Magnolia Park, Houston, USA are 29.73, -95.29.\nThe geograpical coordinate of MacGregor, Houston, USA are 29.71, -95.36.\nThe geograpical coordinate of Spring Branch North, Houston, USA are 29.78, -95.48.\nThe geograpical coordinate of Spring Branch Central, Houston, USA are 29.80, -95.51.\nThe geograpical coordinate of Spring Branch East, Houston, USA are 29.78, -95.48.\nThe geograpical coordinate of Greenway, Houston, USA are 29.71, -95.39.\nThe geograpical coordinate of Upper Kirby, Houston, USA are 39.80, -80.12.\nThe geograpical coordinate of Lawndale, Houston, USA are 35.41, -81.56.\nThe geograpical coordinate of Wayside, Houston, USA are 33.33, -101.81.\n"
    }
   ],
   "source": [
    "neighborhoods[['Latitude', 'Longitude']] = pd.DataFrame((neighborhoods.Neighborhood + ', Houston, USA').apply(get_coord).tolist(), index=neighborhoods.index)"
   ]
  },
  {
   "cell_type": "code",
   "execution_count": 43,
   "metadata": {},
   "outputs": [
    {
     "output_type": "execute_result",
     "data": {
      "text/plain": "          Neighborhood   Latitude  Longitude\n0          Willowbrook  29.660254 -95.456096\n1  Greater Greenspoint  29.944719 -95.416074\n2           Carverdale  29.848687 -95.539450\n3            Fairbanks  29.852726 -95.524386\n4   Northwest Crossing  29.853820 -95.504597",
      "text/html": "<div>\n<style scoped>\n    .dataframe tbody tr th:only-of-type {\n        vertical-align: middle;\n    }\n\n    .dataframe tbody tr th {\n        vertical-align: top;\n    }\n\n    .dataframe thead th {\n        text-align: right;\n    }\n</style>\n<table border=\"1\" class=\"dataframe\">\n  <thead>\n    <tr style=\"text-align: right;\">\n      <th></th>\n      <th>Neighborhood</th>\n      <th>Latitude</th>\n      <th>Longitude</th>\n    </tr>\n  </thead>\n  <tbody>\n    <tr>\n      <th>0</th>\n      <td>Willowbrook</td>\n      <td>29.660254</td>\n      <td>-95.456096</td>\n    </tr>\n    <tr>\n      <th>1</th>\n      <td>Greater Greenspoint</td>\n      <td>29.944719</td>\n      <td>-95.416074</td>\n    </tr>\n    <tr>\n      <th>2</th>\n      <td>Carverdale</td>\n      <td>29.848687</td>\n      <td>-95.539450</td>\n    </tr>\n    <tr>\n      <th>3</th>\n      <td>Fairbanks</td>\n      <td>29.852726</td>\n      <td>-95.524386</td>\n    </tr>\n    <tr>\n      <th>4</th>\n      <td>Northwest Crossing</td>\n      <td>29.853820</td>\n      <td>-95.504597</td>\n    </tr>\n  </tbody>\n</table>\n</div>"
     },
     "metadata": {},
     "execution_count": 43
    }
   ],
   "source": [
    "neighborhoods.head()"
   ]
  },
  {
   "cell_type": "code",
   "execution_count": 44,
   "metadata": {},
   "outputs": [
    {
     "output_type": "execute_result",
     "data": {
      "text/plain": "                                    Neighborhood  Latitude  Longitude\n5                                 Greater Inwood       NaN        NaN\n10                                      Park Ten       NaN        NaN\n13   Central Northwest (formerly Near Northwest)       NaN        NaN\n17                               Greater Heights       NaN        NaN\n18                                      Memorial       NaN        NaN\n23      Mid-West (formerly Woodlake/Briarmeadow)       NaN        NaN\n25                   Washington Avenue Coalition       NaN        NaN\n29                                      Neartown       NaN        NaN\n41                                    South Main       NaN        NaN\n42    Brays Oaks (formerly Greater Fondren S.W.)       NaN        NaN\n67                            Greater Fifth Ward       NaN        NaN\n73                                 Tri-Community       NaN        NaN\n81                   Museum Park (formerly Binz)       NaN        NaN\n83                                   Greater OST       NaN        NaN\n99                            Greater Hobby Area       NaN        NaN\n101                                   South Belt       NaN        NaN",
      "text/html": "<div>\n<style scoped>\n    .dataframe tbody tr th:only-of-type {\n        vertical-align: middle;\n    }\n\n    .dataframe tbody tr th {\n        vertical-align: top;\n    }\n\n    .dataframe thead th {\n        text-align: right;\n    }\n</style>\n<table border=\"1\" class=\"dataframe\">\n  <thead>\n    <tr style=\"text-align: right;\">\n      <th></th>\n      <th>Neighborhood</th>\n      <th>Latitude</th>\n      <th>Longitude</th>\n    </tr>\n  </thead>\n  <tbody>\n    <tr>\n      <th>5</th>\n      <td>Greater Inwood</td>\n      <td>NaN</td>\n      <td>NaN</td>\n    </tr>\n    <tr>\n      <th>10</th>\n      <td>Park Ten</td>\n      <td>NaN</td>\n      <td>NaN</td>\n    </tr>\n    <tr>\n      <th>13</th>\n      <td>Central Northwest (formerly Near Northwest)</td>\n      <td>NaN</td>\n      <td>NaN</td>\n    </tr>\n    <tr>\n      <th>17</th>\n      <td>Greater Heights</td>\n      <td>NaN</td>\n      <td>NaN</td>\n    </tr>\n    <tr>\n      <th>18</th>\n      <td>Memorial</td>\n      <td>NaN</td>\n      <td>NaN</td>\n    </tr>\n    <tr>\n      <th>23</th>\n      <td>Mid-West (formerly Woodlake/Briarmeadow)</td>\n      <td>NaN</td>\n      <td>NaN</td>\n    </tr>\n    <tr>\n      <th>25</th>\n      <td>Washington Avenue Coalition</td>\n      <td>NaN</td>\n      <td>NaN</td>\n    </tr>\n    <tr>\n      <th>29</th>\n      <td>Neartown</td>\n      <td>NaN</td>\n      <td>NaN</td>\n    </tr>\n    <tr>\n      <th>41</th>\n      <td>South Main</td>\n      <td>NaN</td>\n      <td>NaN</td>\n    </tr>\n    <tr>\n      <th>42</th>\n      <td>Brays Oaks (formerly Greater Fondren S.W.)</td>\n      <td>NaN</td>\n      <td>NaN</td>\n    </tr>\n    <tr>\n      <th>67</th>\n      <td>Greater Fifth Ward</td>\n      <td>NaN</td>\n      <td>NaN</td>\n    </tr>\n    <tr>\n      <th>73</th>\n      <td>Tri-Community</td>\n      <td>NaN</td>\n      <td>NaN</td>\n    </tr>\n    <tr>\n      <th>81</th>\n      <td>Museum Park (formerly Binz)</td>\n      <td>NaN</td>\n      <td>NaN</td>\n    </tr>\n    <tr>\n      <th>83</th>\n      <td>Greater OST</td>\n      <td>NaN</td>\n      <td>NaN</td>\n    </tr>\n    <tr>\n      <th>99</th>\n      <td>Greater Hobby Area</td>\n      <td>NaN</td>\n      <td>NaN</td>\n    </tr>\n    <tr>\n      <th>101</th>\n      <td>South Belt</td>\n      <td>NaN</td>\n      <td>NaN</td>\n    </tr>\n  </tbody>\n</table>\n</div>"
     },
     "metadata": {},
     "execution_count": 44
    }
   ],
   "source": [
    "neighborhoods.loc[neighborhoods.isna().sum(1) > 0]"
   ]
  },
  {
   "cell_type": "markdown",
   "metadata": {},
   "source": [
    "Park Ten is the same as Addicks"
   ]
  },
  {
   "cell_type": "code",
   "execution_count": 45,
   "metadata": {},
   "outputs": [],
   "source": [
    "neighborhoods = neighborhoods[neighborhoods.Neighborhood != 'Park Ten']"
   ]
  },
  {
   "cell_type": "code",
   "execution_count": 46,
   "metadata": {},
   "outputs": [
    {
     "output_type": "execute_result",
     "data": {
      "text/plain": "                                    Neighborhood  Latitude  Longitude\n5                                 Greater Inwood       NaN        NaN\n13   Central Northwest (formerly Near Northwest)       NaN        NaN\n17                               Greater Heights       NaN        NaN\n18                                      Memorial       NaN        NaN\n23      Mid-West (formerly Woodlake/Briarmeadow)       NaN        NaN\n25                   Washington Avenue Coalition       NaN        NaN\n29                                      Neartown       NaN        NaN\n41                                    South Main       NaN        NaN\n42    Brays Oaks (formerly Greater Fondren S.W.)       NaN        NaN\n67                            Greater Fifth Ward       NaN        NaN\n73                                 Tri-Community       NaN        NaN\n81                   Museum Park (formerly Binz)       NaN        NaN\n83                                   Greater OST       NaN        NaN\n99                            Greater Hobby Area       NaN        NaN\n101                                   South Belt       NaN        NaN",
      "text/html": "<div>\n<style scoped>\n    .dataframe tbody tr th:only-of-type {\n        vertical-align: middle;\n    }\n\n    .dataframe tbody tr th {\n        vertical-align: top;\n    }\n\n    .dataframe thead th {\n        text-align: right;\n    }\n</style>\n<table border=\"1\" class=\"dataframe\">\n  <thead>\n    <tr style=\"text-align: right;\">\n      <th></th>\n      <th>Neighborhood</th>\n      <th>Latitude</th>\n      <th>Longitude</th>\n    </tr>\n  </thead>\n  <tbody>\n    <tr>\n      <th>5</th>\n      <td>Greater Inwood</td>\n      <td>NaN</td>\n      <td>NaN</td>\n    </tr>\n    <tr>\n      <th>13</th>\n      <td>Central Northwest (formerly Near Northwest)</td>\n      <td>NaN</td>\n      <td>NaN</td>\n    </tr>\n    <tr>\n      <th>17</th>\n      <td>Greater Heights</td>\n      <td>NaN</td>\n      <td>NaN</td>\n    </tr>\n    <tr>\n      <th>18</th>\n      <td>Memorial</td>\n      <td>NaN</td>\n      <td>NaN</td>\n    </tr>\n    <tr>\n      <th>23</th>\n      <td>Mid-West (formerly Woodlake/Briarmeadow)</td>\n      <td>NaN</td>\n      <td>NaN</td>\n    </tr>\n    <tr>\n      <th>25</th>\n      <td>Washington Avenue Coalition</td>\n      <td>NaN</td>\n      <td>NaN</td>\n    </tr>\n    <tr>\n      <th>29</th>\n      <td>Neartown</td>\n      <td>NaN</td>\n      <td>NaN</td>\n    </tr>\n    <tr>\n      <th>41</th>\n      <td>South Main</td>\n      <td>NaN</td>\n      <td>NaN</td>\n    </tr>\n    <tr>\n      <th>42</th>\n      <td>Brays Oaks (formerly Greater Fondren S.W.)</td>\n      <td>NaN</td>\n      <td>NaN</td>\n    </tr>\n    <tr>\n      <th>67</th>\n      <td>Greater Fifth Ward</td>\n      <td>NaN</td>\n      <td>NaN</td>\n    </tr>\n    <tr>\n      <th>73</th>\n      <td>Tri-Community</td>\n      <td>NaN</td>\n      <td>NaN</td>\n    </tr>\n    <tr>\n      <th>81</th>\n      <td>Museum Park (formerly Binz)</td>\n      <td>NaN</td>\n      <td>NaN</td>\n    </tr>\n    <tr>\n      <th>83</th>\n      <td>Greater OST</td>\n      <td>NaN</td>\n      <td>NaN</td>\n    </tr>\n    <tr>\n      <th>99</th>\n      <td>Greater Hobby Area</td>\n      <td>NaN</td>\n      <td>NaN</td>\n    </tr>\n    <tr>\n      <th>101</th>\n      <td>South Belt</td>\n      <td>NaN</td>\n      <td>NaN</td>\n    </tr>\n  </tbody>\n</table>\n</div>"
     },
     "metadata": {},
     "execution_count": 46
    }
   ],
   "source": [
    "neighborhoods.loc[neighborhoods.isna().sum(1) > 0]"
   ]
  },
  {
   "cell_type": "markdown",
   "metadata": {},
   "source": [
    "Data acquired from Google Map"
   ]
  },
  {
   "cell_type": "code",
   "execution_count": 47,
   "metadata": {},
   "outputs": [],
   "source": [
    "neighborhoods.loc[neighborhoods.isna().sum(1) > 0, ['Latitude', 'Longitude']] = [[29.8800973,-95.5142869],\n",
    "[29.8295093,-95.4602677],\n",
    "[29.7953545,-95.4219342],\n",
    "[29.7653329,-95.6280326],\n",
    "[29.7361698,-95.5255453],\n",
    "[29.7741598,-95.4281763],\n",
    "[29.7469666,-95.413642],\n",
    "[29.6752812,-95.4347469],\n",
    "[29.653808,-95.5513956],\n",
    "[29.7754873,-95.3459998],\n",
    "[29.7506196,-95.2825196],\n",
    "[29.7247024,-95.3918737],\n",
    "[29.6952297,-95.3625073],\n",
    "[29.6262917,-95.2876597],\n",
    "[29.6039379,-95.2377624]]"
   ]
  },
  {
   "cell_type": "code",
   "execution_count": 49,
   "metadata": {},
   "outputs": [
    {
     "output_type": "execute_result",
     "data": {
      "text/plain": "Empty DataFrame\nColumns: [Neighborhood, Latitude, Longitude]\nIndex: []",
      "text/html": "<div>\n<style scoped>\n    .dataframe tbody tr th:only-of-type {\n        vertical-align: middle;\n    }\n\n    .dataframe tbody tr th {\n        vertical-align: top;\n    }\n\n    .dataframe thead th {\n        text-align: right;\n    }\n</style>\n<table border=\"1\" class=\"dataframe\">\n  <thead>\n    <tr style=\"text-align: right;\">\n      <th></th>\n      <th>Neighborhood</th>\n      <th>Latitude</th>\n      <th>Longitude</th>\n    </tr>\n  </thead>\n  <tbody>\n  </tbody>\n</table>\n</div>"
     },
     "metadata": {},
     "execution_count": 49
    }
   ],
   "source": [
    "neighborhoods.loc[neighborhoods.isna().sum(1) > 0]"
   ]
  },
  {
   "cell_type": "code",
   "execution_count": 51,
   "metadata": {},
   "outputs": [
    {
     "output_type": "execute_result",
     "data": {
      "text/plain": "           Neighborhood   Latitude   Longitude\n7         Hidden Valley  33.594555  -84.191030\n21         Briar Forest  32.995124  -97.542801\n30             Montrose  39.164153  -88.381063\n32           Sharpstown  39.136499  -76.218564\n33              Gulfton  37.183669  -94.544951\n34     University Place  37.936437  -88.609499\n35             Westwood  31.085472  -94.158249\n36             Braeburn  37.264581  -80.026706\n43             Westbury  30.102158  -94.309631\n47    Central Southwest  35.803687  -89.537297\n51             Kingwood  30.049708  -95.184630\n53            Northside  31.610729  -84.173519\n54            Northline  44.990556  -92.708355\n55               Jensen  30.299572  -94.812491\n56     East Little York  39.894814  -84.217782\n57            Homestead  39.362783  -94.200778\n58              Trinity  33.345955  -88.462263\n62    Northside Village  31.610729  -84.173519\n64            El Dorado  31.179398  -81.383986\n68        Denver Harbor  27.822410  -82.610894\n70   Pleasantville Area  39.809786  -82.522103\n71           Northshore  30.027776  -95.226636\n75             Downtown  21.308945 -157.861341\n78     Greater Eastwood  39.018362  -94.535198\n82   Greater Third Ward  35.232373  -80.849853\n84          South Union  41.568131  -76.998855\n85   Gulfgate Riverview  42.376486  -71.243248\n86          Pine Valley  30.660473  -95.452442\n87           Pecan Park  30.511904  -81.622597\n89           South Park  41.735585  -88.303681\n96          South Acres  31.324531  -89.335327\n102           Ellington  36.757284  -85.423020\n103          Clear Lake  33.078174  -96.495265\n110         Upper Kirby  39.802855  -80.117008\n111            Lawndale  35.414019  -81.563147\n112             Wayside  33.325090 -101.807104",
      "text/html": "<div>\n<style scoped>\n    .dataframe tbody tr th:only-of-type {\n        vertical-align: middle;\n    }\n\n    .dataframe tbody tr th {\n        vertical-align: top;\n    }\n\n    .dataframe thead th {\n        text-align: right;\n    }\n</style>\n<table border=\"1\" class=\"dataframe\">\n  <thead>\n    <tr style=\"text-align: right;\">\n      <th></th>\n      <th>Neighborhood</th>\n      <th>Latitude</th>\n      <th>Longitude</th>\n    </tr>\n  </thead>\n  <tbody>\n    <tr>\n      <th>7</th>\n      <td>Hidden Valley</td>\n      <td>33.594555</td>\n      <td>-84.191030</td>\n    </tr>\n    <tr>\n      <th>21</th>\n      <td>Briar Forest</td>\n      <td>32.995124</td>\n      <td>-97.542801</td>\n    </tr>\n    <tr>\n      <th>30</th>\n      <td>Montrose</td>\n      <td>39.164153</td>\n      <td>-88.381063</td>\n    </tr>\n    <tr>\n      <th>32</th>\n      <td>Sharpstown</td>\n      <td>39.136499</td>\n      <td>-76.218564</td>\n    </tr>\n    <tr>\n      <th>33</th>\n      <td>Gulfton</td>\n      <td>37.183669</td>\n      <td>-94.544951</td>\n    </tr>\n    <tr>\n      <th>34</th>\n      <td>University Place</td>\n      <td>37.936437</td>\n      <td>-88.609499</td>\n    </tr>\n    <tr>\n      <th>35</th>\n      <td>Westwood</td>\n      <td>31.085472</td>\n      <td>-94.158249</td>\n    </tr>\n    <tr>\n      <th>36</th>\n      <td>Braeburn</td>\n      <td>37.264581</td>\n      <td>-80.026706</td>\n    </tr>\n    <tr>\n      <th>43</th>\n      <td>Westbury</td>\n      <td>30.102158</td>\n      <td>-94.309631</td>\n    </tr>\n    <tr>\n      <th>47</th>\n      <td>Central Southwest</td>\n      <td>35.803687</td>\n      <td>-89.537297</td>\n    </tr>\n    <tr>\n      <th>51</th>\n      <td>Kingwood</td>\n      <td>30.049708</td>\n      <td>-95.184630</td>\n    </tr>\n    <tr>\n      <th>53</th>\n      <td>Northside</td>\n      <td>31.610729</td>\n      <td>-84.173519</td>\n    </tr>\n    <tr>\n      <th>54</th>\n      <td>Northline</td>\n      <td>44.990556</td>\n      <td>-92.708355</td>\n    </tr>\n    <tr>\n      <th>55</th>\n      <td>Jensen</td>\n      <td>30.299572</td>\n      <td>-94.812491</td>\n    </tr>\n    <tr>\n      <th>56</th>\n      <td>East Little York</td>\n      <td>39.894814</td>\n      <td>-84.217782</td>\n    </tr>\n    <tr>\n      <th>57</th>\n      <td>Homestead</td>\n      <td>39.362783</td>\n      <td>-94.200778</td>\n    </tr>\n    <tr>\n      <th>58</th>\n      <td>Trinity</td>\n      <td>33.345955</td>\n      <td>-88.462263</td>\n    </tr>\n    <tr>\n      <th>62</th>\n      <td>Northside Village</td>\n      <td>31.610729</td>\n      <td>-84.173519</td>\n    </tr>\n    <tr>\n      <th>64</th>\n      <td>El Dorado</td>\n      <td>31.179398</td>\n      <td>-81.383986</td>\n    </tr>\n    <tr>\n      <th>68</th>\n      <td>Denver Harbor</td>\n      <td>27.822410</td>\n      <td>-82.610894</td>\n    </tr>\n    <tr>\n      <th>70</th>\n      <td>Pleasantville Area</td>\n      <td>39.809786</td>\n      <td>-82.522103</td>\n    </tr>\n    <tr>\n      <th>71</th>\n      <td>Northshore</td>\n      <td>30.027776</td>\n      <td>-95.226636</td>\n    </tr>\n    <tr>\n      <th>75</th>\n      <td>Downtown</td>\n      <td>21.308945</td>\n      <td>-157.861341</td>\n    </tr>\n    <tr>\n      <th>78</th>\n      <td>Greater Eastwood</td>\n      <td>39.018362</td>\n      <td>-94.535198</td>\n    </tr>\n    <tr>\n      <th>82</th>\n      <td>Greater Third Ward</td>\n      <td>35.232373</td>\n      <td>-80.849853</td>\n    </tr>\n    <tr>\n      <th>84</th>\n      <td>South Union</td>\n      <td>41.568131</td>\n      <td>-76.998855</td>\n    </tr>\n    <tr>\n      <th>85</th>\n      <td>Gulfgate Riverview</td>\n      <td>42.376486</td>\n      <td>-71.243248</td>\n    </tr>\n    <tr>\n      <th>86</th>\n      <td>Pine Valley</td>\n      <td>30.660473</td>\n      <td>-95.452442</td>\n    </tr>\n    <tr>\n      <th>87</th>\n      <td>Pecan Park</td>\n      <td>30.511904</td>\n      <td>-81.622597</td>\n    </tr>\n    <tr>\n      <th>89</th>\n      <td>South Park</td>\n      <td>41.735585</td>\n      <td>-88.303681</td>\n    </tr>\n    <tr>\n      <th>96</th>\n      <td>South Acres</td>\n      <td>31.324531</td>\n      <td>-89.335327</td>\n    </tr>\n    <tr>\n      <th>102</th>\n      <td>Ellington</td>\n      <td>36.757284</td>\n      <td>-85.423020</td>\n    </tr>\n    <tr>\n      <th>103</th>\n      <td>Clear Lake</td>\n      <td>33.078174</td>\n      <td>-96.495265</td>\n    </tr>\n    <tr>\n      <th>110</th>\n      <td>Upper Kirby</td>\n      <td>39.802855</td>\n      <td>-80.117008</td>\n    </tr>\n    <tr>\n      <th>111</th>\n      <td>Lawndale</td>\n      <td>35.414019</td>\n      <td>-81.563147</td>\n    </tr>\n    <tr>\n      <th>112</th>\n      <td>Wayside</td>\n      <td>33.325090</td>\n      <td>-101.807104</td>\n    </tr>\n  </tbody>\n</table>\n</div>"
     },
     "metadata": {},
     "execution_count": 51
    }
   ],
   "source": [
    "neighborhoods.loc[(neighborhoods.Latitude - 29).abs() > 1]"
   ]
  },
  {
   "cell_type": "markdown",
   "metadata": {},
   "source": [
    "Homestead is the same as East Little York;<br>\n",
    "Gulfgate Riverview is the same as Pine Valley<br>\n",
    "Lawndale is the same as Wayside"
   ]
  },
  {
   "cell_type": "code",
   "execution_count": 56,
   "metadata": {},
   "outputs": [],
   "source": [
    "neighborhoods = neighborhoods[~neighborhoods.Neighborhood.isin(('Homestead', 'Gulfgate Riverview', 'Lawndale'))]"
   ]
  },
  {
   "cell_type": "code",
   "execution_count": 57,
   "metadata": {},
   "outputs": [
    {
     "output_type": "execute_result",
     "data": {
      "text/plain": "           Neighborhood   Latitude   Longitude\n7         Hidden Valley  33.594555  -84.191030\n21         Briar Forest  32.995124  -97.542801\n30             Montrose  39.164153  -88.381063\n32           Sharpstown  39.136499  -76.218564\n33              Gulfton  37.183669  -94.544951\n34     University Place  37.936437  -88.609499\n35             Westwood  31.085472  -94.158249\n36             Braeburn  37.264581  -80.026706\n43             Westbury  30.102158  -94.309631\n47    Central Southwest  35.803687  -89.537297\n51             Kingwood  30.049708  -95.184630\n53            Northside  31.610729  -84.173519\n54            Northline  44.990556  -92.708355\n55               Jensen  30.299572  -94.812491\n56     East Little York  39.894814  -84.217782\n58              Trinity  33.345955  -88.462263\n62    Northside Village  31.610729  -84.173519\n64            El Dorado  31.179398  -81.383986\n68        Denver Harbor  27.822410  -82.610894\n70   Pleasantville Area  39.809786  -82.522103\n71           Northshore  30.027776  -95.226636\n75             Downtown  21.308945 -157.861341\n78     Greater Eastwood  39.018362  -94.535198\n82   Greater Third Ward  35.232373  -80.849853\n84          South Union  41.568131  -76.998855\n86          Pine Valley  30.660473  -95.452442\n87           Pecan Park  30.511904  -81.622597\n89           South Park  41.735585  -88.303681\n96          South Acres  31.324531  -89.335327\n102           Ellington  36.757284  -85.423020\n103          Clear Lake  33.078174  -96.495265\n110         Upper Kirby  39.802855  -80.117008\n112             Wayside  33.325090 -101.807104",
      "text/html": "<div>\n<style scoped>\n    .dataframe tbody tr th:only-of-type {\n        vertical-align: middle;\n    }\n\n    .dataframe tbody tr th {\n        vertical-align: top;\n    }\n\n    .dataframe thead th {\n        text-align: right;\n    }\n</style>\n<table border=\"1\" class=\"dataframe\">\n  <thead>\n    <tr style=\"text-align: right;\">\n      <th></th>\n      <th>Neighborhood</th>\n      <th>Latitude</th>\n      <th>Longitude</th>\n    </tr>\n  </thead>\n  <tbody>\n    <tr>\n      <th>7</th>\n      <td>Hidden Valley</td>\n      <td>33.594555</td>\n      <td>-84.191030</td>\n    </tr>\n    <tr>\n      <th>21</th>\n      <td>Briar Forest</td>\n      <td>32.995124</td>\n      <td>-97.542801</td>\n    </tr>\n    <tr>\n      <th>30</th>\n      <td>Montrose</td>\n      <td>39.164153</td>\n      <td>-88.381063</td>\n    </tr>\n    <tr>\n      <th>32</th>\n      <td>Sharpstown</td>\n      <td>39.136499</td>\n      <td>-76.218564</td>\n    </tr>\n    <tr>\n      <th>33</th>\n      <td>Gulfton</td>\n      <td>37.183669</td>\n      <td>-94.544951</td>\n    </tr>\n    <tr>\n      <th>34</th>\n      <td>University Place</td>\n      <td>37.936437</td>\n      <td>-88.609499</td>\n    </tr>\n    <tr>\n      <th>35</th>\n      <td>Westwood</td>\n      <td>31.085472</td>\n      <td>-94.158249</td>\n    </tr>\n    <tr>\n      <th>36</th>\n      <td>Braeburn</td>\n      <td>37.264581</td>\n      <td>-80.026706</td>\n    </tr>\n    <tr>\n      <th>43</th>\n      <td>Westbury</td>\n      <td>30.102158</td>\n      <td>-94.309631</td>\n    </tr>\n    <tr>\n      <th>47</th>\n      <td>Central Southwest</td>\n      <td>35.803687</td>\n      <td>-89.537297</td>\n    </tr>\n    <tr>\n      <th>51</th>\n      <td>Kingwood</td>\n      <td>30.049708</td>\n      <td>-95.184630</td>\n    </tr>\n    <tr>\n      <th>53</th>\n      <td>Northside</td>\n      <td>31.610729</td>\n      <td>-84.173519</td>\n    </tr>\n    <tr>\n      <th>54</th>\n      <td>Northline</td>\n      <td>44.990556</td>\n      <td>-92.708355</td>\n    </tr>\n    <tr>\n      <th>55</th>\n      <td>Jensen</td>\n      <td>30.299572</td>\n      <td>-94.812491</td>\n    </tr>\n    <tr>\n      <th>56</th>\n      <td>East Little York</td>\n      <td>39.894814</td>\n      <td>-84.217782</td>\n    </tr>\n    <tr>\n      <th>58</th>\n      <td>Trinity</td>\n      <td>33.345955</td>\n      <td>-88.462263</td>\n    </tr>\n    <tr>\n      <th>62</th>\n      <td>Northside Village</td>\n      <td>31.610729</td>\n      <td>-84.173519</td>\n    </tr>\n    <tr>\n      <th>64</th>\n      <td>El Dorado</td>\n      <td>31.179398</td>\n      <td>-81.383986</td>\n    </tr>\n    <tr>\n      <th>68</th>\n      <td>Denver Harbor</td>\n      <td>27.822410</td>\n      <td>-82.610894</td>\n    </tr>\n    <tr>\n      <th>70</th>\n      <td>Pleasantville Area</td>\n      <td>39.809786</td>\n      <td>-82.522103</td>\n    </tr>\n    <tr>\n      <th>71</th>\n      <td>Northshore</td>\n      <td>30.027776</td>\n      <td>-95.226636</td>\n    </tr>\n    <tr>\n      <th>75</th>\n      <td>Downtown</td>\n      <td>21.308945</td>\n      <td>-157.861341</td>\n    </tr>\n    <tr>\n      <th>78</th>\n      <td>Greater Eastwood</td>\n      <td>39.018362</td>\n      <td>-94.535198</td>\n    </tr>\n    <tr>\n      <th>82</th>\n      <td>Greater Third Ward</td>\n      <td>35.232373</td>\n      <td>-80.849853</td>\n    </tr>\n    <tr>\n      <th>84</th>\n      <td>South Union</td>\n      <td>41.568131</td>\n      <td>-76.998855</td>\n    </tr>\n    <tr>\n      <th>86</th>\n      <td>Pine Valley</td>\n      <td>30.660473</td>\n      <td>-95.452442</td>\n    </tr>\n    <tr>\n      <th>87</th>\n      <td>Pecan Park</td>\n      <td>30.511904</td>\n      <td>-81.622597</td>\n    </tr>\n    <tr>\n      <th>89</th>\n      <td>South Park</td>\n      <td>41.735585</td>\n      <td>-88.303681</td>\n    </tr>\n    <tr>\n      <th>96</th>\n      <td>South Acres</td>\n      <td>31.324531</td>\n      <td>-89.335327</td>\n    </tr>\n    <tr>\n      <th>102</th>\n      <td>Ellington</td>\n      <td>36.757284</td>\n      <td>-85.423020</td>\n    </tr>\n    <tr>\n      <th>103</th>\n      <td>Clear Lake</td>\n      <td>33.078174</td>\n      <td>-96.495265</td>\n    </tr>\n    <tr>\n      <th>110</th>\n      <td>Upper Kirby</td>\n      <td>39.802855</td>\n      <td>-80.117008</td>\n    </tr>\n    <tr>\n      <th>112</th>\n      <td>Wayside</td>\n      <td>33.325090</td>\n      <td>-101.807104</td>\n    </tr>\n  </tbody>\n</table>\n</div>"
     },
     "metadata": {},
     "execution_count": 57
    }
   ],
   "source": [
    "neighborhoods.loc[(neighborhoods.Latitude - 29).abs() > 1]"
   ]
  },
  {
   "cell_type": "code",
   "execution_count": 58,
   "metadata": {},
   "outputs": [],
   "source": [
    "neighborhoods.loc[(neighborhoods.Latitude - 29).abs() > 1, ['Latitude', 'Longitude']] = [[29.8901821,-95.4291368],\n",
    "[29.7515312,-95.5903642],\n",
    "[29.7469666,-95.413642],\n",
    "[29.7019788,-95.5419795],\n",
    "[29.7118784,-95.4970781],\n",
    "[29.7143069,-95.4190756],\n",
    "[29.6774603,-95.5657805],\n",
    "[29.6827427,-95.5262247],\n",
    "[29.650939,-95.4980373],\n",
    "[29.6355929,-95.4734624],\n",
    "[30.0585306,-95.2413034],\n",
    "[29.8650576,-95.4574048],\n",
    "[29.8588049,-95.4173348],\n",
    "[29.8415472,-95.3758639],\n",
    "[29.8818703,-95.3297437],\n",
    "[29.8263243,-95.3287154],\n",
    "[29.795349,-95.380751],\n",
    "[29.8079298,-95.2638717],\n",
    "[29.7623224,-95.3274328],\n",
    "[29.7774907,-95.2934356],\n",
    "[29.7729723,-95.2597734],\n",
    "[29.7575272,-95.3668266],\n",
    "[29.735638,-95.3416359],\n",
    "[29.7289782,-95.3626455],\n",
    "[29.6952297,-95.3625073],\n",
    "[29.7103713,-95.3310235],\n",
    "[29.7070954,-95.2949683],\n",
    "[29.6682788,-95.3512867],\n",
    "[29.623533,-95.3745097],\n",
    "[29.6039379,-95.2377624],\n",
    "[29.5837969,-95.1430025],\n",
    "[29.7314782,-95.4441244],\n",
    "[29.7227783,-95.3160188]]"
   ]
  },
  {
   "cell_type": "code",
   "execution_count": 60,
   "metadata": {},
   "outputs": [
    {
     "output_type": "execute_result",
     "data": {
      "text/plain": "      Neighborhood   Latitude  Longitude\n19        Eldridge  29.468021 -96.355244\n22       Westchase  28.055017 -82.609820\n24  Greater Uptown  29.935760 -90.133407\n74     Fourth Ward  29.812292 -85.305565\n88       Sunnyside  29.139967 -98.052506",
      "text/html": "<div>\n<style scoped>\n    .dataframe tbody tr th:only-of-type {\n        vertical-align: middle;\n    }\n\n    .dataframe tbody tr th {\n        vertical-align: top;\n    }\n\n    .dataframe thead th {\n        text-align: right;\n    }\n</style>\n<table border=\"1\" class=\"dataframe\">\n  <thead>\n    <tr style=\"text-align: right;\">\n      <th></th>\n      <th>Neighborhood</th>\n      <th>Latitude</th>\n      <th>Longitude</th>\n    </tr>\n  </thead>\n  <tbody>\n    <tr>\n      <th>19</th>\n      <td>Eldridge</td>\n      <td>29.468021</td>\n      <td>-96.355244</td>\n    </tr>\n    <tr>\n      <th>22</th>\n      <td>Westchase</td>\n      <td>28.055017</td>\n      <td>-82.609820</td>\n    </tr>\n    <tr>\n      <th>24</th>\n      <td>Greater Uptown</td>\n      <td>29.935760</td>\n      <td>-90.133407</td>\n    </tr>\n    <tr>\n      <th>74</th>\n      <td>Fourth Ward</td>\n      <td>29.812292</td>\n      <td>-85.305565</td>\n    </tr>\n    <tr>\n      <th>88</th>\n      <td>Sunnyside</td>\n      <td>29.139967</td>\n      <td>-98.052506</td>\n    </tr>\n  </tbody>\n</table>\n</div>"
     },
     "metadata": {},
     "execution_count": 60
    }
   ],
   "source": [
    "neighborhoods.loc[(neighborhoods.Longitude + 95).abs() > 1]"
   ]
  },
  {
   "cell_type": "code",
   "execution_count": 61,
   "metadata": {},
   "outputs": [],
   "source": [
    "neighborhoods.loc[(neighborhoods.Longitude + 95).abs() > 1, ['Latitude', 'Longitude']] = [[29.742661,-95.720858],\n",
    "[29.7260909,-95.5744971],\n",
    "[29.7486921,-95.480928],\n",
    "[29.7568289,-95.3841914],\n",
    "[29.6641192,-95.3767489]]"
   ]
  },
  {
   "cell_type": "code",
   "execution_count": 62,
   "metadata": {},
   "outputs": [],
   "source": [
    "dict_cities['Houston'] = neighborhoods"
   ]
  },
  {
   "cell_type": "code",
   "execution_count": 85,
   "metadata": {},
   "outputs": [
    {
     "output_type": "execute_result",
     "data": {
      "text/plain": "           Neighborhood   Latitude  Longitude\n30             Montrose  29.746967 -95.413642\n49              Houston  29.758938 -95.367697\n52         Lake Houston  29.758938 -95.367697\n59      Houston Gardens  29.758938 -95.367697\n84          South Union  29.695230 -95.362507\n102           Ellington  29.603938 -95.237762\n108  Spring Branch East  29.778449 -95.483190",
      "text/html": "<div>\n<style scoped>\n    .dataframe tbody tr th:only-of-type {\n        vertical-align: middle;\n    }\n\n    .dataframe tbody tr th {\n        vertical-align: top;\n    }\n\n    .dataframe thead th {\n        text-align: right;\n    }\n</style>\n<table border=\"1\" class=\"dataframe\">\n  <thead>\n    <tr style=\"text-align: right;\">\n      <th></th>\n      <th>Neighborhood</th>\n      <th>Latitude</th>\n      <th>Longitude</th>\n    </tr>\n  </thead>\n  <tbody>\n    <tr>\n      <th>30</th>\n      <td>Montrose</td>\n      <td>29.746967</td>\n      <td>-95.413642</td>\n    </tr>\n    <tr>\n      <th>49</th>\n      <td>Houston</td>\n      <td>29.758938</td>\n      <td>-95.367697</td>\n    </tr>\n    <tr>\n      <th>52</th>\n      <td>Lake Houston</td>\n      <td>29.758938</td>\n      <td>-95.367697</td>\n    </tr>\n    <tr>\n      <th>59</th>\n      <td>Houston Gardens</td>\n      <td>29.758938</td>\n      <td>-95.367697</td>\n    </tr>\n    <tr>\n      <th>84</th>\n      <td>South Union</td>\n      <td>29.695230</td>\n      <td>-95.362507</td>\n    </tr>\n    <tr>\n      <th>102</th>\n      <td>Ellington</td>\n      <td>29.603938</td>\n      <td>-95.237762</td>\n    </tr>\n    <tr>\n      <th>108</th>\n      <td>Spring Branch East</td>\n      <td>29.778449</td>\n      <td>-95.483190</td>\n    </tr>\n  </tbody>\n</table>\n</div>"
     },
     "metadata": {},
     "execution_count": 85
    }
   ],
   "source": [
    "dict_cities['Houston'].loc[dict_cities['Houston'].duplicated(subset=['Latitude', 'Longitude'])]"
   ]
  },
  {
   "cell_type": "markdown",
   "metadata": {},
   "source": [
    "### Chicago"
   ]
  },
  {
   "cell_type": "code",
   "execution_count": 63,
   "metadata": {},
   "outputs": [],
   "source": [
    "table = pd.read_html('https://en.wikipedia.org/wiki/List_of_neighborhoods_in_Chicago', header=0)[0]"
   ]
  },
  {
   "cell_type": "code",
   "execution_count": 64,
   "metadata": {},
   "outputs": [
    {
     "output_type": "execute_result",
     "data": {
      "text/plain": "      Neighborhood  Community area\n0      Albany Park     Albany Park\n1  Altgeld Gardens       Riverdale\n2    Andersonville       Edgewater\n3   Archer Heights  Archer Heights\n4    Armour Square   Armour Square",
      "text/html": "<div>\n<style scoped>\n    .dataframe tbody tr th:only-of-type {\n        vertical-align: middle;\n    }\n\n    .dataframe tbody tr th {\n        vertical-align: top;\n    }\n\n    .dataframe thead th {\n        text-align: right;\n    }\n</style>\n<table border=\"1\" class=\"dataframe\">\n  <thead>\n    <tr style=\"text-align: right;\">\n      <th></th>\n      <th>Neighborhood</th>\n      <th>Community area</th>\n    </tr>\n  </thead>\n  <tbody>\n    <tr>\n      <th>0</th>\n      <td>Albany Park</td>\n      <td>Albany Park</td>\n    </tr>\n    <tr>\n      <th>1</th>\n      <td>Altgeld Gardens</td>\n      <td>Riverdale</td>\n    </tr>\n    <tr>\n      <th>2</th>\n      <td>Andersonville</td>\n      <td>Edgewater</td>\n    </tr>\n    <tr>\n      <th>3</th>\n      <td>Archer Heights</td>\n      <td>Archer Heights</td>\n    </tr>\n    <tr>\n      <th>4</th>\n      <td>Armour Square</td>\n      <td>Armour Square</td>\n    </tr>\n  </tbody>\n</table>\n</div>"
     },
     "metadata": {},
     "execution_count": 64
    }
   ],
   "source": [
    "table.head()"
   ]
  },
  {
   "cell_type": "code",
   "execution_count": 65,
   "metadata": {},
   "outputs": [],
   "source": [
    "neighborhoods = table[['Neighborhood']]"
   ]
  },
  {
   "cell_type": "code",
   "execution_count": 66,
   "metadata": {},
   "outputs": [
    {
     "output_type": "stream",
     "name": "stdout",
     "text": "The geograpical coordinate of Albany Park, Chicago IL, USA are 41.97, -87.72.\nThe geograpical coordinate of Altgeld Gardens, Chicago IL, USA are 41.65, -87.60.\nThe geograpical coordinate of Andersonville, Chicago IL, USA are 41.98, -87.67.\nThe geograpical coordinate of Archer Heights, Chicago IL, USA are 41.81, -87.73.\nThe geograpical coordinate of Armour Square, Chicago IL, USA are 41.84, -87.63.\nThe geograpical coordinate of Ashburn, Chicago IL, USA are 41.75, -87.71.\nThe geograpical coordinate of Auburn Gresham, Chicago IL, USA are 41.74, -87.66.\nThe geograpical coordinate of Avalon Park, Chicago IL, USA are 41.75, -87.59.\nThe geograpical coordinate of Avondale, Chicago IL, USA are 41.94, -87.71.\nThe geograpical coordinate of Avondale Gardens, Chicago IL, USA are 41.94, -87.71.\nThe geograpical coordinate of Back of the Yards, Chicago IL, USA are 41.81, -87.67.\nThe geograpical coordinate of Belmont Central, Chicago IL, USA are 41.94, -87.65.\nThe geograpical coordinate of Belmont Gardens, Chicago IL, USA are 41.94, -87.65.\nThe geograpical coordinate of Belmont Heights, Chicago IL, USA are 42.09, -87.98.\nThe geograpical coordinate of Belmont Terrace, Chicago IL, USA are 41.94, -87.65.\nThe geograpical coordinate of Beverly, Chicago IL, USA are 41.72, -87.67.\nThe geograpical coordinate of Beverly View, Chicago IL, USA are 41.72, -87.67.\nThe geograpical coordinate of Beverly Woods, Chicago IL, USA are 41.68, -87.68.\nThe geograpical coordinate of Big Oaks, Chicago IL, USA are 41.40, -87.59.\nThe geograpical coordinate of Boystown, Chicago IL, USA are 41.94, -87.65.\nThe geograpical coordinate of Bowmanville, Chicago IL, USA are 41.97, -87.69.\nThe geograpical coordinate of Brainerd, Chicago IL, USA are 41.73, -87.66.\nThe geograpical coordinate of Brickyard, Chicago IL, USA are 41.93, -87.79.\nThe geograpical coordinate of Bridgeport, Chicago IL, USA are 41.84, -87.65.\nThe geograpical coordinate of Brighton Park, Chicago IL, USA are 41.82, -87.70.\nThe geograpical coordinate of Bronzeville, Chicago IL, USA are 41.83, -87.63.\nThe geograpical coordinate of Bucktown, Chicago IL, USA are 41.91, -87.67.\nThe geograpical coordinate of Budlong Woods, Chicago IL, USA are 41.98, -87.70.\nThe geograpical coordinate of Buena Park, Chicago IL, USA are 41.96, -87.65.\nThe geograpical coordinate of Burnside, Chicago IL, USA are 41.73, -87.60.\nThe geograpical coordinate of Cabrini–Green, Chicago IL, USA are 41.90, -87.64.\nThe geograpical coordinate of Calumet Heights, Chicago IL, USA are 41.73, -87.58.\nThe geograpical coordinate of Canaryville, Chicago IL, USA are 41.81, -87.64.\nThe geograpical coordinate of Central Station, Chicago IL, USA are 41.89, -87.77.\nThe geograpical coordinate of Chatham, Chicago IL, USA are 41.74, -87.61.\nThe geograpical coordinate of Chicago Lawn, Chicago IL, USA are 41.78, -87.70.\nThe geograpical coordinate of Chinatown, Chicago IL, USA are 41.85, -87.63.\nThe geograpical coordinate of Chrysler Village, Chicago IL, USA are 41.95, -87.76.\nThe geograpical coordinate of Clarendon Park, Chicago IL, USA are 41.96, -87.65.\nThe geograpical coordinate of Clearing East, Chicago IL, USA are 41.78, -87.77.\nThe geograpical coordinate of Clearing West, Chicago IL, USA are 41.78, -87.77.\nThe geograpical coordinate of Cragin, Chicago IL, USA are 41.92, -87.76.\nThe geograpical coordinate of Crestline, Chicago IL, USA are 41.74, -87.73.\nThe geograpical coordinate of Dearborn Homes, Chicago IL, USA are 41.84, -87.63.\nThe geograpical coordinate of Dearborn Park, Chicago IL, USA are 41.87, -87.63.\nThe geograpical coordinate of Douglas Park, Chicago IL, USA are 41.86, -87.70.\nThe geograpical coordinate of Dunning, Chicago IL, USA are 41.95, -87.80.\nThe geograpical coordinate of East Beverly, Chicago IL, USA are 41.72, -87.67.\nThe geograpical coordinate of East Chatham, Chicago IL, USA are 41.74, -87.61.\nThe geograpical coordinate of East Garfield Park, Chicago IL, USA are 41.88, -87.70.\nThe geograpical coordinate of East Hyde Park, Chicago IL, USA are 41.79, -87.59.\nThe geograpical coordinate of East Pilsen, Chicago IL, USA are 41.86, -87.66.\nThe geograpical coordinate of East Side, Chicago IL, USA are 41.71, -87.53.\nThe geograpical coordinate of East Village, Chicago IL, USA are 41.99, -87.92.\nThe geograpical coordinate of Eden Green, Chicago IL, USA are 41.89, -87.67.\nThe geograpical coordinate of Edgebrook, Chicago IL, USA are 42.00, -87.76.\nThe geograpical coordinate of Edgewater, Chicago IL, USA are 41.98, -87.66.\nThe geograpical coordinate of Edgewater Beach, Chicago IL, USA are 41.98, -87.66.\nThe geograpical coordinate of Edgewater Glen, Chicago IL, USA are 41.99, -87.66.\nThe geograpical coordinate of Edison Park, Chicago IL, USA are 42.01, -87.81.\nThe geograpical coordinate of Englewood, Chicago IL, USA are 41.78, -87.65.\nThe geograpical coordinate of Fernwood, Chicago IL, USA are 41.70, -87.64.\nThe geograpical coordinate of Fifth City, Chicago IL, USA are 41.75, -87.59.\nThe geograpical coordinate of Ford City, Chicago IL, USA are 41.69, -87.72.\nThe geograpical coordinate of Forest Glen, Chicago IL, USA are 41.99, -87.75.\nThe geograpical coordinate of Fuller Park, Chicago IL, USA are 41.82, -87.63.\nThe geograpical coordinate of Gage Park, Chicago IL, USA are 41.80, -87.70.\nThe geograpical coordinate of Galewood, Chicago IL, USA are 41.92, -87.79.\nThe geograpical coordinate of The Gap, Chicago IL, USA are 41.94, -87.66.\nThe geograpical coordinate of Garfield Ridge, Chicago IL, USA are 41.80, -87.75.\nThe geograpical coordinate of Gladstone Park, Chicago IL, USA are 41.98, -87.78.\nThe geograpical coordinate of Gold Coast, Chicago IL, USA are 41.91, -87.63.\nThe geograpical coordinate of Golden Gate, Chicago IL, USA are 41.66, -87.61.\nThe geograpical coordinate of Goose Island, Chicago IL, USA are 41.90, -87.65.\nThe geograpical coordinate of Graceland West, Chicago IL, USA are 41.96, -87.66.\nThe geograpical coordinate of Grand Boulevard, Chicago IL, USA are 41.81, -87.62.\nThe geograpical coordinate of Grand Crossing, Chicago IL, USA are 41.76, -87.60.\nThe geograpical coordinate of Greater Grand Crossing, Chicago IL, USA are 41.77, -87.62.\nThe geograpical coordinate of Greektown, Chicago IL, USA are 41.88, -87.65.\nThe geograpical coordinate of Gresham, Chicago IL, USA are 41.74, -87.64.\nThe geograpical coordinate of Groveland Park, Chicago IL, USA are 41.83, -87.61.\nThe geograpical coordinate of Hamilton Park, Chicago IL, USA are 41.76, -87.64.\nThe geograpical coordinate of Hanson Park, Chicago IL, USA are 41.92, -87.77.\nThe geograpical coordinate of Heart of Chicago, Chicago IL, USA are 41.91, -87.68.\nThe geograpical coordinate of Hegewisch, Chicago IL, USA are 41.65, -87.55.\nThe geograpical coordinate of Hermosa, Chicago IL, USA are 41.93, -87.73.\nThe geograpical coordinate of Hollywood Park, Chicago IL, USA are 41.99, -87.71.\nThe geograpical coordinate of Homan Square, Chicago IL, USA are 41.87, -87.71.\nThe geograpical coordinate of Humboldt Park, Chicago IL, USA are 41.91, -87.70.\nThe geograpical coordinate of Hyde Park, Chicago IL, USA are 41.79, -87.59.\nThe geograpical coordinate of Illinois Medical District, Chicago IL, USA are 41.88, -87.67.\nThe geograpical coordinate of Irving Park, Chicago IL, USA are 41.95, -87.74.\nThe geograpical coordinate of The Island, Chicago IL, USA are 41.88, -87.62.\nThe geograpical coordinate of Jackowo, Chicago IL, USA are 41.94, -87.71.\nThe geograpical coordinate of Jefferson Park, Chicago IL, USA are 41.97, -87.76.\nThe geograpical coordinate of K-Town, Chicago IL, USA are 41.90, -87.69.\nThe geograpical coordinate of Kelvyn Park, Chicago IL, USA are 41.93, -87.74.\nThe geograpical coordinate of Kennedy Park, Chicago IL, USA are 41.69, -87.68.\nThe geograpical coordinate of Kensington, Chicago IL, USA are 41.68, -87.61.\nThe geograpical coordinate of Kenwood, Chicago IL, USA are 41.81, -87.60.\nThe geograpical coordinate of Kilbourn Park, Chicago IL, USA are 41.95, -87.74.\nThe geograpical coordinate of Kosciuszko Park, Chicago IL, USA are 41.93, -87.72.\nThe geograpical coordinate of Lake Meadows, Chicago IL, USA are 41.83, -87.61.\nThe geograpical coordinate of Lake View, Chicago IL, USA are 41.95, -87.66.\nThe geograpical coordinate of Lake View East, Chicago IL, USA are 41.95, -87.66.\nThe geograpical coordinate of LeClaire Courts, Chicago IL, USA are 41.82, -87.74.\nThe geograpical coordinate of Lilydale, Chicago IL, USA are 41.72, -87.63.\nThe geograpical coordinate of Lincoln Park, Chicago IL, USA are 41.94, -87.64.\nThe geograpical coordinate of Lincoln Square, Chicago IL, USA are 41.98, -87.69.\nThe geograpical coordinate of Lithuanian Plaza, Chicago IL, USA are 41.77, -87.69.\nThe geograpical coordinate of Logan Square, Chicago IL, USA are 41.93, -87.71.\nThe geograpical coordinate of Longwood Manor, Chicago IL, USA are 41.71, -87.67.\nThe geograpical coordinate of The Loop, Chicago IL, USA are 41.88, -87.63.\nThe geograpical coordinate of Lower West Side, Chicago IL, USA are 41.85, -87.67.\nThe geograpical coordinate of Loyola, Chicago IL, USA are 42.00, -87.66.\nThe geograpical coordinate of Magnificent Mile, Chicago IL, USA are 41.89, -87.62.\nThe geograpical coordinate of Margate Park, Chicago IL, USA are 41.97, -87.65.\nThe geograpical coordinate of Marquette Park, Chicago IL, USA are 41.77, -87.70.\nThe geograpical coordinate of Marshall Square, Chicago IL, USA are 41.85, -87.69.\nThe geograpical coordinate of Marynook, Chicago IL, USA are 41.74, -87.59.\nThe geograpical coordinate of Mayfair, Chicago IL, USA are 41.97, -87.74.\nThe geograpical coordinate of McKinley Park, Chicago IL, USA are 41.83, -87.67.\nThe geograpical coordinate of Merchant Park, Chicago IL, USA are 41.93, -87.71.\nThe geograpical coordinate of Montclare, Chicago IL, USA are 41.93, -87.80.\nThe geograpical coordinate of Morgan Park, Chicago IL, USA are 41.69, -87.67.\nThe geograpical coordinate of Mount Greenwood, Chicago IL, USA are 41.70, -87.71.\nThe geograpical coordinate of Museum Campus, Chicago IL, USA are 41.89, -87.61.\nThe geograpical coordinate of New Eastside, Chicago IL, USA are 42.03, -88.25.\nThe geograpical coordinate of Near North Side, Chicago IL, USA are 41.90, -87.63.\nThe geograpical coordinate of Near West Side, Chicago IL, USA are 41.88, -87.67.\nThe geograpical coordinate of New Chinatown, Chicago IL, USA are 41.85, -87.63.\nThe geograpical coordinate of New City, Chicago IL, USA are 41.81, -87.66.\nThe geograpical coordinate of Noble Square, Chicago IL, USA are 41.90, -87.66.\nThe geograpical coordinate of North Austin, Chicago IL, USA are 41.89, -87.76.\nThe geograpical coordinate of North Center, Chicago IL, USA are 41.96, -87.68.\nThe geograpical coordinate of North Halsted, Chicago IL, USA are 41.78, -87.64.\nThe geograpical coordinate of North Kenwood, Chicago IL, USA are 41.81, -87.60.\nThe geograpical coordinate of North Lawndale, Chicago IL, USA are 41.86, -87.71.\nThe geograpical coordinate of North Mayfair, Chicago IL, USA are 41.96, -87.75.\nThe geograpical coordinate of North Park, Chicago IL, USA are 41.98, -87.72.\nThe geograpical coordinate of Nortown, Chicago IL, USA are 41.91, -87.66.\nThe geograpical coordinate of Norwood Park East, Chicago IL, USA are 41.99, -87.80.\nThe geograpical coordinate of Norwood Park West, Chicago IL, USA are 41.99, -87.80.\nThe geograpical coordinate of Oakland, Chicago IL, USA are 41.82, -87.61.\nThe geograpical coordinate of O'Hare, Chicago IL, USA are 41.97, -87.91.\nThe geograpical coordinate of Old Edgebrook, Chicago IL, USA are 41.99, -87.77.\nThe geograpical coordinate of Old Irving Park, Chicago IL, USA are 41.95, -87.74.\nThe geograpical coordinate of Old Norwood, Chicago IL, USA are 41.99, -87.80.\nThe geograpical coordinate of Oriole Park, Chicago IL, USA are 41.98, -87.82.\nThe geograpical coordinate of Palmer Square, Chicago IL, USA are 41.88, -87.63.\nThe geograpical coordinate of Park Manor, Chicago IL, USA are 41.77, -87.62.\nThe geograpical coordinate of Park West, Chicago IL, USA are 41.90, -87.64.\nThe geograpical coordinate of Parkview, Chicago IL, USA are 41.88, -87.62.\nThe geograpical coordinate of Peterson Park, Chicago IL, USA are 41.99, -87.72.\nThe geograpical coordinate of Pill Hill, Chicago IL, USA are 41.73, -87.57.\nThe geograpical coordinate of Pilsen, Chicago IL, USA are 41.86, -87.66.\nThe geograpical coordinate of Polish Village, Chicago IL, USA are 41.90, -87.66.\nThe geograpical coordinate of Portage Park, Chicago IL, USA are 41.96, -87.77.\nThe geograpical coordinate of Prairie Avenue Historic District, Chicago IL, USA are 41.86, -87.62.\nThe geograpical coordinate of Prairie Shores, Chicago IL, USA are 41.84, -87.62.\nThe geograpical coordinate of Princeton Park, Chicago IL, USA are 41.73, -87.63.\nThe geograpical coordinate of Printer's Row, Chicago IL, USA are 41.87, -87.63.\nThe geograpical coordinate of Pulaski Park, Chicago IL, USA are 41.91, -87.66.\nThe geograpical coordinate of Pullman, Chicago IL, USA are 41.70, -87.60.\nThe geograpical coordinate of Ranch Triangle, Chicago IL, USA are 45.79, -91.87.\nThe geograpical coordinate of Ravenswood, Chicago IL, USA are 41.97, -87.67.\nThe geograpical coordinate of Ravenswood Gardens, Chicago IL, USA are 41.96, -87.70.\nThe geograpical coordinate of Ravenswood Manor, Chicago IL, USA are 41.96, -87.70.\nThe geograpical coordinate of River North, Chicago IL, USA are 41.95, -87.74.\nThe geograpical coordinate of River West, Chicago IL, USA are 41.79, -87.75.\nThe geograpical coordinate of River's Edge, Chicago IL, USA are 47.52, -111.27.\nThe geograpical coordinate of Riverdale, Chicago IL, USA are 41.67, -87.61.\nThe geograpical coordinate of Rogers Park, Chicago IL, USA are 42.01, -87.67.\nThe geograpical coordinate of Roscoe Village, Chicago IL, USA are 41.94, -87.68.\nThe geograpical coordinate of Rosehill, Chicago IL, USA are 41.99, -87.68.\nThe geograpical coordinate of Roseland, Chicago IL, USA are 41.70, -87.63.\nThe geograpical coordinate of Rosemoor, Chicago IL, USA are 41.71, -87.61.\nThe geograpical coordinate of Sauganash, Chicago IL, USA are 41.99, -87.74.\nThe geograpical coordinate of Schorsch Forest View, Chicago IL, USA are 41.95, -87.78.\nThe geograpical coordinate of Schorsch Village, Chicago IL, USA are 41.95, -87.78.\nThe geograpical coordinate of Scottsdale, Chicago IL, USA are 41.75, -87.74.\nThe geograpical coordinate of Sheridan Park, Chicago IL, USA are 41.87, -87.65.\nThe geograpical coordinate of Sleepy Hollow, Chicago IL, USA are 41.81, -87.74.\nThe geograpical coordinate of Smith Park, Chicago IL, USA are 41.89, -87.69.\nThe geograpical coordinate of South Austin, Chicago IL, USA are 41.89, -87.76.\nThe geograpical coordinate of South Chicago, Chicago IL, USA are 41.73, -87.55.\nThe geograpical coordinate of South Commons, Chicago IL, USA are 41.84, -87.62.\nThe geograpical coordinate of South Deering, Chicago IL, USA are 41.69, -87.57.\nThe geograpical coordinate of South East Ravenswood, Chicago IL, USA are 41.97, -87.67.\nThe geograpical coordinate of South Edgebrook, Chicago IL, USA are 41.99, -87.75.\nThe geograpical coordinate of South Lawndale, Chicago IL, USA are 41.84, -87.71.\nThe geograpical coordinate of South Loop, Chicago IL, USA are 41.86, -87.63.\nThe geograpical coordinate of South Shore, Chicago IL, USA are 41.76, -87.58.\nThe geograpical coordinate of Stateway Gardens, Chicago IL, USA are 41.83, -87.63.\nThe geograpical coordinate of Stony Island Park, Chicago IL, USA are 41.72, -87.58.\nThe geograpical coordinate of Streeterville, Chicago IL, USA are 41.89, -87.62.\nThe geograpical coordinate of Tri-Taylor, Chicago IL, USA are 41.87, -87.64.\nThe geograpical coordinate of Ukrainian Village, Chicago IL, USA are 41.90, -87.68.\nThe geograpical coordinate of Union Ridge, Chicago IL, USA are 41.88, -87.64.\nThe geograpical coordinate of University Village, Chicago IL, USA are 41.88, -87.63.\nThe geograpical coordinate of Uptown, Chicago IL, USA are 41.97, -87.66.\nThe geograpical coordinate of The Villa, Chicago IL, USA are 41.73, -87.55.\nThe geograpical coordinate of Vittum Park, Chicago IL, USA are 41.80, -87.75.\nThe geograpical coordinate of Washington Heights, Chicago IL, USA are 41.71, -87.66.\nThe geograpical coordinate of Washington Park, Chicago IL, USA are 41.79, -87.62.\nThe geograpical coordinate of Wentworth Gardens, Chicago IL, USA are 41.83, -87.63.\nThe geograpical coordinate of West Beverly, Chicago IL, USA are 41.72, -87.67.\nThe geograpical coordinate of West Chatham, Chicago IL, USA are 41.74, -87.61.\nThe geograpical coordinate of West Chesterfield, Chicago IL, USA are 42.05, -87.99.\nThe geograpical coordinate of West DePaul, Chicago IL, USA are 41.92, -87.65.\nThe geograpical coordinate of West Elsdon, Chicago IL, USA are 41.79, -87.72.\nThe geograpical coordinate of West Englewood, Chicago IL, USA are 41.78, -87.67.\nThe geograpical coordinate of West Garfield Park, Chicago IL, USA are 41.88, -87.73.\nThe geograpical coordinate of West Humboldt Park, Chicago IL, USA are 41.91, -87.70.\nThe geograpical coordinate of West Lakeview, Chicago IL, USA are 41.94, -87.65.\nThe geograpical coordinate of West Lawn, Chicago IL, USA are 41.77, -87.72.\nThe geograpical coordinate of West Loop, Chicago IL, USA are 41.88, -87.64.\nThe geograpical coordinate of West Morgan Park, Chicago IL, USA are 41.69, -87.67.\nThe geograpical coordinate of West Pullman, Chicago IL, USA are 41.68, -87.64.\nThe geograpical coordinate of West Ridge, Chicago IL, USA are 42.00, -87.70.\nThe geograpical coordinate of West Rogers Park, Chicago IL, USA are 42.01, -87.67.\nThe geograpical coordinate of West Town, Chicago IL, USA are 41.90, -87.69.\nThe geograpical coordinate of West Woodlawn, Chicago IL, USA are 41.78, -87.60.\nThe geograpical coordinate of Wicker Park, Chicago IL, USA are 41.91, -87.68.\nThe geograpical coordinate of Wildwood, Chicago IL, USA are 42.00, -87.78.\nThe geograpical coordinate of Woodlawn, Chicago IL, USA are 41.78, -87.60.\nThe geograpical coordinate of Wrightwood, Chicago IL, USA are 41.75, -87.70.\nThe geograpical coordinate of Wrigleyville, Chicago IL, USA are 41.95, -87.66.\n"
    }
   ],
   "source": [
    "neighborhoods[['Latitude', 'Longitude']] = pd.DataFrame((neighborhoods.Neighborhood + ', Chicago IL, USA').apply(get_coord).tolist(), index=neighborhoods.index)"
   ]
  },
  {
   "cell_type": "code",
   "execution_count": 67,
   "metadata": {},
   "outputs": [
    {
     "output_type": "execute_result",
     "data": {
      "text/plain": "                            Neighborhood  Latitude  Longitude\n6                        Ashburn Estates       NaN        NaN\n42                 Cottage Grove Heights       NaN        NaN\n68                 Fulton River District       NaN        NaN\n95                          Irving Woods       NaN        NaN\n98                Jackson Park Highlands       NaN        NaN\n110                  Lakewood / Balmoral       NaN        NaN\n112  Legends South (Robert Taylor Homes)       NaN        NaN\n117                         Little Italy       NaN        NaN\n118                       Little Village       NaN        NaN\n157                             Old Town       NaN        NaN\n158                    Old Town Triangle       NaN        NaN\n167                      Polish Downtown       NaN        NaN\n189                          Saint Ben's       NaN        NaN\n194                  Sheffield Neighbors       NaN        NaN\n196            Sheridan Station Corridor       NaN        NaN\n211                      Talley's Corner       NaN        NaN\n219                            Wacławowo       NaN        NaN\n244                 Wrightwood Neighbors       NaN        NaN",
      "text/html": "<div>\n<style scoped>\n    .dataframe tbody tr th:only-of-type {\n        vertical-align: middle;\n    }\n\n    .dataframe tbody tr th {\n        vertical-align: top;\n    }\n\n    .dataframe thead th {\n        text-align: right;\n    }\n</style>\n<table border=\"1\" class=\"dataframe\">\n  <thead>\n    <tr style=\"text-align: right;\">\n      <th></th>\n      <th>Neighborhood</th>\n      <th>Latitude</th>\n      <th>Longitude</th>\n    </tr>\n  </thead>\n  <tbody>\n    <tr>\n      <th>6</th>\n      <td>Ashburn Estates</td>\n      <td>NaN</td>\n      <td>NaN</td>\n    </tr>\n    <tr>\n      <th>42</th>\n      <td>Cottage Grove Heights</td>\n      <td>NaN</td>\n      <td>NaN</td>\n    </tr>\n    <tr>\n      <th>68</th>\n      <td>Fulton River District</td>\n      <td>NaN</td>\n      <td>NaN</td>\n    </tr>\n    <tr>\n      <th>95</th>\n      <td>Irving Woods</td>\n      <td>NaN</td>\n      <td>NaN</td>\n    </tr>\n    <tr>\n      <th>98</th>\n      <td>Jackson Park Highlands</td>\n      <td>NaN</td>\n      <td>NaN</td>\n    </tr>\n    <tr>\n      <th>110</th>\n      <td>Lakewood / Balmoral</td>\n      <td>NaN</td>\n      <td>NaN</td>\n    </tr>\n    <tr>\n      <th>112</th>\n      <td>Legends South (Robert Taylor Homes)</td>\n      <td>NaN</td>\n      <td>NaN</td>\n    </tr>\n    <tr>\n      <th>117</th>\n      <td>Little Italy</td>\n      <td>NaN</td>\n      <td>NaN</td>\n    </tr>\n    <tr>\n      <th>118</th>\n      <td>Little Village</td>\n      <td>NaN</td>\n      <td>NaN</td>\n    </tr>\n    <tr>\n      <th>157</th>\n      <td>Old Town</td>\n      <td>NaN</td>\n      <td>NaN</td>\n    </tr>\n    <tr>\n      <th>158</th>\n      <td>Old Town Triangle</td>\n      <td>NaN</td>\n      <td>NaN</td>\n    </tr>\n    <tr>\n      <th>167</th>\n      <td>Polish Downtown</td>\n      <td>NaN</td>\n      <td>NaN</td>\n    </tr>\n    <tr>\n      <th>189</th>\n      <td>Saint Ben's</td>\n      <td>NaN</td>\n      <td>NaN</td>\n    </tr>\n    <tr>\n      <th>194</th>\n      <td>Sheffield Neighbors</td>\n      <td>NaN</td>\n      <td>NaN</td>\n    </tr>\n    <tr>\n      <th>196</th>\n      <td>Sheridan Station Corridor</td>\n      <td>NaN</td>\n      <td>NaN</td>\n    </tr>\n    <tr>\n      <th>211</th>\n      <td>Talley's Corner</td>\n      <td>NaN</td>\n      <td>NaN</td>\n    </tr>\n    <tr>\n      <th>219</th>\n      <td>Wacławowo</td>\n      <td>NaN</td>\n      <td>NaN</td>\n    </tr>\n    <tr>\n      <th>244</th>\n      <td>Wrightwood Neighbors</td>\n      <td>NaN</td>\n      <td>NaN</td>\n    </tr>\n  </tbody>\n</table>\n</div>"
     },
     "metadata": {},
     "execution_count": 67
    }
   ],
   "source": [
    "neighborhoods.loc[neighborhoods.isna().sum(1) > 0]"
   ]
  },
  {
   "cell_type": "markdown",
   "metadata": {},
   "source": [
    "Polish Downtown is no longer a neighborhood;<br>\n",
    "Sheridan Station Corridor cannot be found on Google;<br>\n",
    "Talley's Corner cannot be found on Google"
   ]
  },
  {
   "cell_type": "code",
   "execution_count": 73,
   "metadata": {},
   "outputs": [],
   "source": [
    "neighborhoods = neighborhoods.loc[~neighborhoods.Neighborhood.isin(['Polish Downtown', 'Sheridan Station Corridor', \"Talley's Corner\"])]"
   ]
  },
  {
   "cell_type": "code",
   "execution_count": 74,
   "metadata": {},
   "outputs": [
    {
     "output_type": "execute_result",
     "data": {
      "text/plain": "                            Neighborhood  Latitude  Longitude\n6                        Ashburn Estates       NaN        NaN\n42                 Cottage Grove Heights       NaN        NaN\n68                 Fulton River District       NaN        NaN\n95                          Irving Woods       NaN        NaN\n98                Jackson Park Highlands       NaN        NaN\n110                  Lakewood / Balmoral       NaN        NaN\n112  Legends South (Robert Taylor Homes)       NaN        NaN\n117                         Little Italy       NaN        NaN\n118                       Little Village       NaN        NaN\n157                             Old Town       NaN        NaN\n158                    Old Town Triangle       NaN        NaN\n189                          Saint Ben's       NaN        NaN\n194                  Sheffield Neighbors       NaN        NaN\n219                            Wacławowo       NaN        NaN\n244                 Wrightwood Neighbors       NaN        NaN",
      "text/html": "<div>\n<style scoped>\n    .dataframe tbody tr th:only-of-type {\n        vertical-align: middle;\n    }\n\n    .dataframe tbody tr th {\n        vertical-align: top;\n    }\n\n    .dataframe thead th {\n        text-align: right;\n    }\n</style>\n<table border=\"1\" class=\"dataframe\">\n  <thead>\n    <tr style=\"text-align: right;\">\n      <th></th>\n      <th>Neighborhood</th>\n      <th>Latitude</th>\n      <th>Longitude</th>\n    </tr>\n  </thead>\n  <tbody>\n    <tr>\n      <th>6</th>\n      <td>Ashburn Estates</td>\n      <td>NaN</td>\n      <td>NaN</td>\n    </tr>\n    <tr>\n      <th>42</th>\n      <td>Cottage Grove Heights</td>\n      <td>NaN</td>\n      <td>NaN</td>\n    </tr>\n    <tr>\n      <th>68</th>\n      <td>Fulton River District</td>\n      <td>NaN</td>\n      <td>NaN</td>\n    </tr>\n    <tr>\n      <th>95</th>\n      <td>Irving Woods</td>\n      <td>NaN</td>\n      <td>NaN</td>\n    </tr>\n    <tr>\n      <th>98</th>\n      <td>Jackson Park Highlands</td>\n      <td>NaN</td>\n      <td>NaN</td>\n    </tr>\n    <tr>\n      <th>110</th>\n      <td>Lakewood / Balmoral</td>\n      <td>NaN</td>\n      <td>NaN</td>\n    </tr>\n    <tr>\n      <th>112</th>\n      <td>Legends South (Robert Taylor Homes)</td>\n      <td>NaN</td>\n      <td>NaN</td>\n    </tr>\n    <tr>\n      <th>117</th>\n      <td>Little Italy</td>\n      <td>NaN</td>\n      <td>NaN</td>\n    </tr>\n    <tr>\n      <th>118</th>\n      <td>Little Village</td>\n      <td>NaN</td>\n      <td>NaN</td>\n    </tr>\n    <tr>\n      <th>157</th>\n      <td>Old Town</td>\n      <td>NaN</td>\n      <td>NaN</td>\n    </tr>\n    <tr>\n      <th>158</th>\n      <td>Old Town Triangle</td>\n      <td>NaN</td>\n      <td>NaN</td>\n    </tr>\n    <tr>\n      <th>189</th>\n      <td>Saint Ben's</td>\n      <td>NaN</td>\n      <td>NaN</td>\n    </tr>\n    <tr>\n      <th>194</th>\n      <td>Sheffield Neighbors</td>\n      <td>NaN</td>\n      <td>NaN</td>\n    </tr>\n    <tr>\n      <th>219</th>\n      <td>Wacławowo</td>\n      <td>NaN</td>\n      <td>NaN</td>\n    </tr>\n    <tr>\n      <th>244</th>\n      <td>Wrightwood Neighbors</td>\n      <td>NaN</td>\n      <td>NaN</td>\n    </tr>\n  </tbody>\n</table>\n</div>"
     },
     "metadata": {},
     "execution_count": 74
    }
   ],
   "source": [
    "neighborhoods.loc[neighborhoods.isna().sum(1) > 0]"
   ]
  },
  {
   "cell_type": "code",
   "execution_count": 75,
   "metadata": {},
   "outputs": [],
   "source": [
    "neighborhoods.loc[neighborhoods.isna().sum(1) > 0, ['Latitude', 'Longitude']] = [[41.7479953,-87.7246529],\n",
    "[41.7185428,-87.6020408],\n",
    "[41.8898792,-87.6480075],\n",
    "[41.9520932,-87.8390223],\n",
    "[41.769787,-87.5832518],\n",
    "[41.9799505,-87.6671326],\n",
    "[41.8091494,-87.6460559],\n",
    "[41.8675945,-87.6643539],\n",
    "[41.845231,-87.7209646],\n",
    "[41.9111221,-87.6492029],\n",
    "[41.9111221,-87.6492029],\n",
    "[41.9504386,-87.687881],\n",
    "[41.921283,-87.663281],\n",
    "[41.9393819,-87.7164201],\n",
    "[41.9289822,-87.6605451]]"
   ]
  },
  {
   "cell_type": "code",
   "execution_count": 77,
   "metadata": {},
   "outputs": [
    {
     "output_type": "execute_result",
     "data": {
      "text/plain": "       Neighborhood   Latitude   Longitude\n176  Ranch Triangle  45.785819  -91.873151\n182    River's Edge  47.522525 -111.274075",
      "text/html": "<div>\n<style scoped>\n    .dataframe tbody tr th:only-of-type {\n        vertical-align: middle;\n    }\n\n    .dataframe tbody tr th {\n        vertical-align: top;\n    }\n\n    .dataframe thead th {\n        text-align: right;\n    }\n</style>\n<table border=\"1\" class=\"dataframe\">\n  <thead>\n    <tr style=\"text-align: right;\">\n      <th></th>\n      <th>Neighborhood</th>\n      <th>Latitude</th>\n      <th>Longitude</th>\n    </tr>\n  </thead>\n  <tbody>\n    <tr>\n      <th>176</th>\n      <td>Ranch Triangle</td>\n      <td>45.785819</td>\n      <td>-91.873151</td>\n    </tr>\n    <tr>\n      <th>182</th>\n      <td>River's Edge</td>\n      <td>47.522525</td>\n      <td>-111.274075</td>\n    </tr>\n  </tbody>\n</table>\n</div>"
     },
     "metadata": {},
     "execution_count": 77
    }
   ],
   "source": [
    "neighborhoods.loc[(neighborhoods.Latitude - 42).abs() > 1]"
   ]
  },
  {
   "cell_type": "code",
   "execution_count": 78,
   "metadata": {},
   "outputs": [],
   "source": [
    "neighborhoods.loc[(neighborhoods.Latitude - 42).abs() > 1, ['Latitude', 'Longitude']] = [[41.9145052,-87.6606578],\n",
    "[41.979527, -87.733849]]"
   ]
  },
  {
   "cell_type": "code",
   "execution_count": 79,
   "metadata": {},
   "outputs": [
    {
     "output_type": "execute_result",
     "data": {
      "text/plain": "     Neighborhood   Latitude  Longitude\n136  New Eastside  42.032973   -88.2488",
      "text/html": "<div>\n<style scoped>\n    .dataframe tbody tr th:only-of-type {\n        vertical-align: middle;\n    }\n\n    .dataframe tbody tr th {\n        vertical-align: top;\n    }\n\n    .dataframe thead th {\n        text-align: right;\n    }\n</style>\n<table border=\"1\" class=\"dataframe\">\n  <thead>\n    <tr style=\"text-align: right;\">\n      <th></th>\n      <th>Neighborhood</th>\n      <th>Latitude</th>\n      <th>Longitude</th>\n    </tr>\n  </thead>\n  <tbody>\n    <tr>\n      <th>136</th>\n      <td>New Eastside</td>\n      <td>42.032973</td>\n      <td>-88.2488</td>\n    </tr>\n  </tbody>\n</table>\n</div>"
     },
     "metadata": {},
     "execution_count": 79
    }
   ],
   "source": [
    "neighborhoods.loc[(neighborhoods.Longitude + 87).abs() > 1]"
   ]
  },
  {
   "cell_type": "code",
   "execution_count": 80,
   "metadata": {},
   "outputs": [],
   "source": [
    "neighborhoods.loc[(neighborhoods.Longitude + 87).abs() > 1, ['Latitude', 'Longitude']] = [[41.8866036,-87.62147]]"
   ]
  },
  {
   "cell_type": "code",
   "execution_count": 81,
   "metadata": {},
   "outputs": [],
   "source": [
    "dict_cities['Chicago'] = neighborhoods"
   ]
  },
  {
   "cell_type": "code",
   "execution_count": 86,
   "metadata": {},
   "outputs": [
    {
     "output_type": "execute_result",
     "data": {
      "text/plain": "              Neighborhood   Latitude  Longitude\n10        Avondale Gardens  41.938921 -87.711168\n13         Belmont Gardens  41.939796 -87.653328\n15         Belmont Terrace  41.939796 -87.653328\n17            Beverly View  41.718153 -87.671767\n41           Clearing West  41.778677 -87.769202\n49            East Beverly  41.718153 -87.671767\n50            East Chatham  41.741145 -87.612548\n59         Edgewater Beach  41.983369 -87.663952\n92               Hyde Park  41.794446 -87.593924\n97                 Jackowo  41.938921 -87.711168\n109         Lake View East  41.947050 -87.655429\n139          New Chinatown  41.851658 -87.633138\n145          North Kenwood  41.809144 -87.597991\n151      Norwood Park West  41.985590 -87.800582\n155        Old Irving Park  41.953365 -87.736447\n156            Old Norwood  41.985590 -87.800582\n158      Old Town Triangle  41.911122 -87.649203\n163               Parkview  41.875562 -87.624421\n166                 Pilsen  41.856010 -87.656306\n192       Schorsch Village  41.947254 -87.779226\n199           South Austin  41.887876 -87.764851\n203  South East Ravenswood  41.965591 -87.666724\n223           West Beverly  41.718153 -87.671767\n224           West Chatham  41.741145 -87.612548\n230     West Humboldt Park  41.905767 -87.704174\n234       West Morgan Park  41.690312 -87.666716\n237       West Rogers Park  42.010531 -87.670748\n238              West Town  41.901421 -87.686166\n242               Woodlawn  41.779479 -87.599493",
      "text/html": "<div>\n<style scoped>\n    .dataframe tbody tr th:only-of-type {\n        vertical-align: middle;\n    }\n\n    .dataframe tbody tr th {\n        vertical-align: top;\n    }\n\n    .dataframe thead th {\n        text-align: right;\n    }\n</style>\n<table border=\"1\" class=\"dataframe\">\n  <thead>\n    <tr style=\"text-align: right;\">\n      <th></th>\n      <th>Neighborhood</th>\n      <th>Latitude</th>\n      <th>Longitude</th>\n    </tr>\n  </thead>\n  <tbody>\n    <tr>\n      <th>10</th>\n      <td>Avondale Gardens</td>\n      <td>41.938921</td>\n      <td>-87.711168</td>\n    </tr>\n    <tr>\n      <th>13</th>\n      <td>Belmont Gardens</td>\n      <td>41.939796</td>\n      <td>-87.653328</td>\n    </tr>\n    <tr>\n      <th>15</th>\n      <td>Belmont Terrace</td>\n      <td>41.939796</td>\n      <td>-87.653328</td>\n    </tr>\n    <tr>\n      <th>17</th>\n      <td>Beverly View</td>\n      <td>41.718153</td>\n      <td>-87.671767</td>\n    </tr>\n    <tr>\n      <th>41</th>\n      <td>Clearing West</td>\n      <td>41.778677</td>\n      <td>-87.769202</td>\n    </tr>\n    <tr>\n      <th>49</th>\n      <td>East Beverly</td>\n      <td>41.718153</td>\n      <td>-87.671767</td>\n    </tr>\n    <tr>\n      <th>50</th>\n      <td>East Chatham</td>\n      <td>41.741145</td>\n      <td>-87.612548</td>\n    </tr>\n    <tr>\n      <th>59</th>\n      <td>Edgewater Beach</td>\n      <td>41.983369</td>\n      <td>-87.663952</td>\n    </tr>\n    <tr>\n      <th>92</th>\n      <td>Hyde Park</td>\n      <td>41.794446</td>\n      <td>-87.593924</td>\n    </tr>\n    <tr>\n      <th>97</th>\n      <td>Jackowo</td>\n      <td>41.938921</td>\n      <td>-87.711168</td>\n    </tr>\n    <tr>\n      <th>109</th>\n      <td>Lake View East</td>\n      <td>41.947050</td>\n      <td>-87.655429</td>\n    </tr>\n    <tr>\n      <th>139</th>\n      <td>New Chinatown</td>\n      <td>41.851658</td>\n      <td>-87.633138</td>\n    </tr>\n    <tr>\n      <th>145</th>\n      <td>North Kenwood</td>\n      <td>41.809144</td>\n      <td>-87.597991</td>\n    </tr>\n    <tr>\n      <th>151</th>\n      <td>Norwood Park West</td>\n      <td>41.985590</td>\n      <td>-87.800582</td>\n    </tr>\n    <tr>\n      <th>155</th>\n      <td>Old Irving Park</td>\n      <td>41.953365</td>\n      <td>-87.736447</td>\n    </tr>\n    <tr>\n      <th>156</th>\n      <td>Old Norwood</td>\n      <td>41.985590</td>\n      <td>-87.800582</td>\n    </tr>\n    <tr>\n      <th>158</th>\n      <td>Old Town Triangle</td>\n      <td>41.911122</td>\n      <td>-87.649203</td>\n    </tr>\n    <tr>\n      <th>163</th>\n      <td>Parkview</td>\n      <td>41.875562</td>\n      <td>-87.624421</td>\n    </tr>\n    <tr>\n      <th>166</th>\n      <td>Pilsen</td>\n      <td>41.856010</td>\n      <td>-87.656306</td>\n    </tr>\n    <tr>\n      <th>192</th>\n      <td>Schorsch Village</td>\n      <td>41.947254</td>\n      <td>-87.779226</td>\n    </tr>\n    <tr>\n      <th>199</th>\n      <td>South Austin</td>\n      <td>41.887876</td>\n      <td>-87.764851</td>\n    </tr>\n    <tr>\n      <th>203</th>\n      <td>South East Ravenswood</td>\n      <td>41.965591</td>\n      <td>-87.666724</td>\n    </tr>\n    <tr>\n      <th>223</th>\n      <td>West Beverly</td>\n      <td>41.718153</td>\n      <td>-87.671767</td>\n    </tr>\n    <tr>\n      <th>224</th>\n      <td>West Chatham</td>\n      <td>41.741145</td>\n      <td>-87.612548</td>\n    </tr>\n    <tr>\n      <th>230</th>\n      <td>West Humboldt Park</td>\n      <td>41.905767</td>\n      <td>-87.704174</td>\n    </tr>\n    <tr>\n      <th>234</th>\n      <td>West Morgan Park</td>\n      <td>41.690312</td>\n      <td>-87.666716</td>\n    </tr>\n    <tr>\n      <th>237</th>\n      <td>West Rogers Park</td>\n      <td>42.010531</td>\n      <td>-87.670748</td>\n    </tr>\n    <tr>\n      <th>238</th>\n      <td>West Town</td>\n      <td>41.901421</td>\n      <td>-87.686166</td>\n    </tr>\n    <tr>\n      <th>242</th>\n      <td>Woodlawn</td>\n      <td>41.779479</td>\n      <td>-87.599493</td>\n    </tr>\n  </tbody>\n</table>\n</div>"
     },
     "metadata": {},
     "execution_count": 86
    }
   ],
   "source": [
    "dict_cities['Chicago'].loc[dict_cities['Chicago'].duplicated(subset=['Latitude', 'Longitude'])]"
   ]
  },
  {
   "cell_type": "code",
   "execution_count": null,
   "metadata": {},
   "outputs": [],
   "source": []
  }
 ],
 "metadata": {
  "language_info": {
   "codemirror_mode": {
    "name": "ipython",
    "version": 3
   },
   "file_extension": ".py",
   "mimetype": "text/x-python",
   "name": "python",
   "nbconvert_exporter": "python",
   "pygments_lexer": "ipython3",
   "version": "3.7.7-final"
  },
  "orig_nbformat": 2,
  "kernelspec": {
   "name": "python37764bita147cfeb05e843faa5552f9290b0b0c7",
   "display_name": "Python 3.7.7 64-bit"
  }
 },
 "nbformat": 4,
 "nbformat_minor": 2
}